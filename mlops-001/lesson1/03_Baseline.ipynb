{
  "cells": [
    {
      "cell_type": "markdown",
      "metadata": {
        "id": "view-in-github",
        "colab_type": "text"
      },
      "source": [
        "<a href=\"https://colab.research.google.com/github/Nov05/wandb-edu/blob/main/mlops-001/lesson1/03_Baseline.ipynb\" target=\"_parent\"><img src=\"https://colab.research.google.com/assets/colab-badge.svg\" alt=\"Open In Colab\"/></a>"
      ]
    },
    {
      "cell_type": "markdown",
      "source": [
        "# Info\n",
        "notebook modified by nov05 on 2023-02-24  \n",
        "repo `wandb-edu` file path `mlops-001/lesson1/03_Baseline.ipynb` "
      ],
      "metadata": {
        "id": "g82WlBvStUmv"
      },
      "id": "g82WlBvStUmv"
    },
    {
      "cell_type": "code",
      "source": [
        "!wget https://raw.githubusercontent.com/Nov05/wandb-edu/2393150ad396928ab1421b0e2d6b259863348dcf/mlops-001/lesson1/utils.py\n",
        "!wget https://raw.githubusercontent.com/Nov05/wandb-edu/2393150ad396928ab1421b0e2d6b259863348dcf/mlops-001/lesson1/params.py"
      ],
      "metadata": {
        "id": "JSZy21fFtf6u"
      },
      "id": "JSZy21fFtf6u",
      "execution_count": null,
      "outputs": []
    },
    {
      "cell_type": "code",
      "source": [
        "!pip install wandb\n",
        "## wandb-0.13.10"
      ],
      "metadata": {
        "id": "KqM32UhptoH1"
      },
      "id": "KqM32UhptoH1",
      "execution_count": null,
      "outputs": []
    },
    {
      "cell_type": "markdown",
      "metadata": {
        "id": "cuteiwf8tIzr"
      },
      "source": [
        "<a href=\"https://colab.research.google.com/github/wandb/edu/blob/main/mlops-001/lesson1/03_Baseline.ipynb\" target=\"_parent\"><img src=\"https://colab.research.google.com/assets/colab-badge.svg\" alt=\"Open In Colab\"/></a>\n",
        "<!--- @wandbcode{course-lesson1} -->"
      ],
      "id": "cuteiwf8tIzr"
    },
    {
      "cell_type": "markdown",
      "id": "4723ae62-c55d-4c8f-9157-43c29189a2ff",
      "metadata": {
        "id": "4723ae62-c55d-4c8f-9157-43c29189a2ff"
      },
      "source": [
        "# Baseline solution\n",
        "\n",
        "<!--- @wandbcode{course-lesson1} -->\n",
        "\n",
        "In this notebook we will create a baseline solution to our semantic segmentation problem. To iterate fast a notebook is a handy solution. We will then refactor this code into a script to be able to use hyperparameter sweeps."
      ]
    },
    {
      "cell_type": "code",
      "execution_count": 3,
      "id": "29116dec",
      "metadata": {
        "id": "29116dec"
      },
      "outputs": [],
      "source": [
        "import wandb\n",
        "import pandas as pd\n",
        "from fastai.vision.all import *\n",
        "from fastai.callback.wandb import WandbCallback\n",
        "\n",
        "import params\n",
        "from utils import get_predictions, create_iou_table, MIOU, BackgroundIOU, \\\n",
        "                  RoadIOU, TrafficLightIOU, TrafficSignIOU, PersonIOU, VehicleIOU, BicycleIOU"
      ]
    },
    {
      "cell_type": "markdown",
      "id": "6e0871e5-c07d-4a8b-817b-388c2e9bf7d1",
      "metadata": {
        "id": "6e0871e5-c07d-4a8b-817b-388c2e9bf7d1"
      },
      "source": [
        "Again, we're importing some global configuration parameters from `params.py` file. We have also defined some helper functions in `utils.py` - for example metrics we will track during our experiments.\n",
        "\n",
        "Let's now create a `train_config` that we'll pass to W&B `run` to control training hyperparameters. "
      ]
    },
    {
      "cell_type": "code",
      "execution_count": 4,
      "id": "cff6b8ee",
      "metadata": {
        "id": "cff6b8ee"
      },
      "outputs": [],
      "source": [
        "train_config = SimpleNamespace(\n",
        "    framework=\"fastai\",\n",
        "    img_size=(180, 320),\n",
        "    batch_size=8,\n",
        "    augment=True, # use data augmentation\n",
        "    epochs=10, \n",
        "    lr=2e-3,\n",
        "    pretrained=True,  # whether to use pretrained encoder\n",
        "    seed=42,\n",
        ")"
      ]
    },
    {
      "cell_type": "markdown",
      "id": "38f014f3-d78f-4f5b-b038-d8020de43930",
      "metadata": {
        "id": "38f014f3-d78f-4f5b-b038-d8020de43930"
      },
      "source": [
        "We are setting seed for reproducibility. "
      ]
    },
    {
      "cell_type": "code",
      "execution_count": 5,
      "id": "fc6765f6",
      "metadata": {
        "id": "fc6765f6"
      },
      "outputs": [],
      "source": [
        "set_seed(train_config.seed, reproducible=True)"
      ]
    },
    {
      "cell_type": "code",
      "execution_count": 6,
      "id": "32483e4d",
      "metadata": {
        "colab": {
          "base_uri": "https://localhost:8080/",
          "height": 230
        },
        "id": "32483e4d",
        "outputId": "e7124db5-b32c-4b28-f816-515271435d25"
      },
      "outputs": [
        {
          "output_type": "stream",
          "name": "stderr",
          "text": [
            "ERROR:wandb.jupyter:Failed to detect the name of this notebook, you can set it manually with the WANDB_NOTEBOOK_NAME environment variable to enable code saving.\n"
          ]
        },
        {
          "output_type": "display_data",
          "data": {
            "text/plain": [
              "<IPython.core.display.Javascript object>"
            ],
            "application/javascript": [
              "\n",
              "        window._wandbApiKey = new Promise((resolve, reject) => {\n",
              "            function loadScript(url) {\n",
              "            return new Promise(function(resolve, reject) {\n",
              "                let newScript = document.createElement(\"script\");\n",
              "                newScript.onerror = reject;\n",
              "                newScript.onload = resolve;\n",
              "                document.body.appendChild(newScript);\n",
              "                newScript.src = url;\n",
              "            });\n",
              "            }\n",
              "            loadScript(\"https://cdn.jsdelivr.net/npm/postmate/build/postmate.min.js\").then(() => {\n",
              "            const iframe = document.createElement('iframe')\n",
              "            iframe.style.cssText = \"width:0;height:0;border:none\"\n",
              "            document.body.appendChild(iframe)\n",
              "            const handshake = new Postmate({\n",
              "                container: iframe,\n",
              "                url: 'https://wandb.ai/authorize'\n",
              "            });\n",
              "            const timeout = setTimeout(() => reject(\"Couldn't auto authenticate\"), 5000)\n",
              "            handshake.then(function(child) {\n",
              "                child.on('authorize', data => {\n",
              "                    clearTimeout(timeout)\n",
              "                    resolve(data)\n",
              "                });\n",
              "            });\n",
              "            })\n",
              "        });\n",
              "    "
            ]
          },
          "metadata": {}
        },
        {
          "output_type": "stream",
          "name": "stderr",
          "text": [
            "\u001b[34m\u001b[1mwandb\u001b[0m: Logging into wandb.ai. (Learn how to deploy a W&B server locally: https://wandb.me/wandb-server)\n",
            "\u001b[34m\u001b[1mwandb\u001b[0m: You can find your API key in your browser here: https://wandb.ai/authorize\n",
            "wandb: Paste an API key from your profile and hit enter, or press ctrl+c to quit: "
          ]
        },
        {
          "name": "stdout",
          "output_type": "stream",
          "text": [
            "··········\n"
          ]
        },
        {
          "output_type": "stream",
          "name": "stderr",
          "text": [
            "\u001b[34m\u001b[1mwandb\u001b[0m: Appending key for api.wandb.ai to your netrc file: /root/.netrc\n"
          ]
        },
        {
          "output_type": "display_data",
          "data": {
            "text/plain": [
              "<IPython.core.display.HTML object>"
            ],
            "text/html": [
              "Tracking run with wandb version 0.13.10"
            ]
          },
          "metadata": {}
        },
        {
          "output_type": "display_data",
          "data": {
            "text/plain": [
              "<IPython.core.display.HTML object>"
            ],
            "text/html": [
              "Run data is saved locally in <code>/content/wandb/run-20230224_105906-okglrx4y</code>"
            ]
          },
          "metadata": {}
        },
        {
          "output_type": "display_data",
          "data": {
            "text/plain": [
              "<IPython.core.display.HTML object>"
            ],
            "text/html": [
              "Syncing run <strong><a href='https://wandb.ai/novemberfifth/mlops-course-001/runs/okglrx4y' target=\"_blank\">royal-sky-5</a></strong> to <a href='https://wandb.ai/novemberfifth/mlops-course-001' target=\"_blank\">Weights & Biases</a> (<a href='https://wandb.me/run' target=\"_blank\">docs</a>)<br/>"
            ]
          },
          "metadata": {}
        },
        {
          "output_type": "display_data",
          "data": {
            "text/plain": [
              "<IPython.core.display.HTML object>"
            ],
            "text/html": [
              " View project at <a href='https://wandb.ai/novemberfifth/mlops-course-001' target=\"_blank\">https://wandb.ai/novemberfifth/mlops-course-001</a>"
            ]
          },
          "metadata": {}
        },
        {
          "output_type": "display_data",
          "data": {
            "text/plain": [
              "<IPython.core.display.HTML object>"
            ],
            "text/html": [
              " View run at <a href='https://wandb.ai/novemberfifth/mlops-course-001/runs/okglrx4y' target=\"_blank\">https://wandb.ai/novemberfifth/mlops-course-001/runs/okglrx4y</a>"
            ]
          },
          "metadata": {}
        }
      ],
      "source": [
        "run = wandb.init(project=params.WANDB_PROJECT, entity=params.ENTITY, job_type=\"training\", config=train_config)"
      ]
    },
    {
      "cell_type": "markdown",
      "id": "be7c1872-fc08-4304-9842-203d9ac45371",
      "metadata": {
        "id": "be7c1872-fc08-4304-9842-203d9ac45371"
      },
      "source": [
        "As usual, we will use W&B Artifacts to track the lineage of our models. "
      ]
    },
    {
      "cell_type": "code",
      "execution_count": 7,
      "id": "df839467",
      "metadata": {
        "colab": {
          "base_uri": "https://localhost:8080/"
        },
        "id": "df839467",
        "outputId": "b5d04f7b-5d19-4c4b-db77-1fa32f9f87d1"
      },
      "outputs": [
        {
          "output_type": "stream",
          "name": "stderr",
          "text": [
            "\u001b[34m\u001b[1mwandb\u001b[0m: Downloading large artifact bdd_simple_1k_split:latest, 813.25MB. 4010 files... \n",
            "\u001b[34m\u001b[1mwandb\u001b[0m:   4010 of 4010 files downloaded.  \n",
            "Done. 0:1:13.4\n"
          ]
        }
      ],
      "source": [
        "processed_data_at = run.use_artifact(f'{params.PROCESSED_DATA_AT}:latest')\n",
        "processed_dataset_dir = Path(processed_data_at.download())\n",
        "df = pd.read_csv(processed_dataset_dir / 'data_split.csv')"
      ]
    },
    {
      "cell_type": "markdown",
      "id": "77170345-96d3-4371-a4e9-5ea3b15e2cdb",
      "metadata": {
        "id": "77170345-96d3-4371-a4e9-5ea3b15e2cdb"
      },
      "source": [
        "We will not use the hold out dataset stage at this moment. `is_valid` column will tell our trainer how we want to split data between training and validation. "
      ]
    },
    {
      "cell_type": "code",
      "execution_count": 8,
      "id": "5a34e1d7",
      "metadata": {
        "id": "5a34e1d7"
      },
      "outputs": [],
      "source": [
        "df = df[df.Stage != 'test'].reset_index(drop=True)\n",
        "df['is_valid'] = df.Stage == 'valid'"
      ]
    },
    {
      "cell_type": "code",
      "execution_count": 9,
      "id": "65ae3d60",
      "metadata": {
        "id": "65ae3d60"
      },
      "outputs": [],
      "source": [
        "def label_func(fname):\n",
        "    return (fname.parent.parent/\"labels\")/f\"{fname.stem}_mask.png\""
      ]
    },
    {
      "cell_type": "markdown",
      "id": "e7fb25d8-50b0-4c14-9d52-d14725e024c9",
      "metadata": {
        "id": "e7fb25d8-50b0-4c14-9d52-d14725e024c9"
      },
      "source": [
        "We will use `fastai`'s `DataBlock` API to feed data into model training and validation. "
      ]
    },
    {
      "cell_type": "code",
      "execution_count": 10,
      "id": "1f713864",
      "metadata": {
        "id": "1f713864"
      },
      "outputs": [],
      "source": [
        "# assign paths\n",
        "df[\"image_fname\"] = [processed_dataset_dir/f'images/{f}' for f in df.File_Name.values]\n",
        "df[\"label_fname\"] = [label_func(f) for f in df.image_fname.values]"
      ]
    },
    {
      "cell_type": "code",
      "execution_count": 11,
      "id": "4268334e",
      "metadata": {
        "id": "4268334e"
      },
      "outputs": [],
      "source": [
        "def get_data(df, bs=4, img_size=(180, 320), augment=True):\n",
        "    block = DataBlock(blocks=(ImageBlock, MaskBlock(codes=params.BDD_CLASSES)),\n",
        "                  get_x=ColReader(\"image_fname\"),\n",
        "                  get_y=ColReader(\"label_fname\"),\n",
        "                  splitter=ColSplitter(),\n",
        "                  item_tfms=Resize(img_size),\n",
        "                  batch_tfms=aug_transforms() if augment else None,\n",
        "                 )\n",
        "    return block.dataloaders(df, bs=bs)"
      ]
    },
    {
      "cell_type": "markdown",
      "id": "929f7975-ff29-4692-89b3-7f7596aecb0a",
      "metadata": {
        "id": "929f7975-ff29-4692-89b3-7f7596aecb0a"
      },
      "source": [
        "We are using `wandb.config` to track our training hyperparameters. "
      ]
    },
    {
      "cell_type": "code",
      "execution_count": 12,
      "id": "f214f2f1",
      "metadata": {
        "id": "f214f2f1"
      },
      "outputs": [],
      "source": [
        "config = wandb.config"
      ]
    },
    {
      "cell_type": "code",
      "execution_count": 13,
      "id": "58544078",
      "metadata": {
        "id": "58544078"
      },
      "outputs": [],
      "source": [
        "dls = get_data(df, bs=config.batch_size, img_size=config.img_size, augment=config.augment)"
      ]
    },
    {
      "cell_type": "markdown",
      "id": "475d4e69-d8ec-4093-a8e4-0f09b0979887",
      "metadata": {
        "id": "475d4e69-d8ec-4093-a8e4-0f09b0979887"
      },
      "source": [
        "We will use *intersection over union* metrics: mean across all classes (MIOU) and IOU for each class separately. Our model will be a `unet` based on pretrained `resnet18` backbone. "
      ]
    },
    {
      "cell_type": "code",
      "execution_count": 14,
      "id": "a9fd4610",
      "metadata": {
        "colab": {
          "base_uri": "https://localhost:8080/",
          "height": 158,
          "referenced_widgets": [
            "5510aab84205401282c502bf544bd1df",
            "e0cfc99a2f2249fa9f40db2ccb33fe6b",
            "bf60ed8d951c4b0e97f0fc9ecf1ea6a2",
            "48b31a9ef40d48cc9deee50409663830",
            "f02bf6b397eb43518f35d961828bd7c4",
            "ad968f68d3f8417ab703b273dd545898",
            "8b7395a0d96d49829a6dfcac88411c9f",
            "5ff3dc2076cd426b9838b0a3e1be584b",
            "3a1de363a79540b6afa0ff04cb1c6a43",
            "cec683a4667c4026aae0fc4c396b0b5f",
            "fef79bfa8b4b426ab705a8cafc0d38fb"
          ]
        },
        "id": "a9fd4610",
        "outputId": "9e514d26-ec49-4169-e71c-64ba629194b2"
      },
      "outputs": [
        {
          "output_type": "stream",
          "name": "stderr",
          "text": [
            "/usr/local/lib/python3.8/dist-packages/torchvision/models/_utils.py:208: UserWarning: The parameter 'pretrained' is deprecated since 0.13 and may be removed in the future, please use 'weights' instead.\n",
            "  warnings.warn(\n",
            "/usr/local/lib/python3.8/dist-packages/torchvision/models/_utils.py:223: UserWarning: Arguments other than a weight enum or `None` for 'weights' are deprecated since 0.13 and may be removed in the future. The current behavior is equivalent to passing `weights=ResNet18_Weights.IMAGENET1K_V1`. You can also use `weights=ResNet18_Weights.DEFAULT` to get the most up-to-date weights.\n",
            "  warnings.warn(msg)\n",
            "Downloading: \"https://download.pytorch.org/models/resnet18-f37072fd.pth\" to /root/.cache/torch/hub/checkpoints/resnet18-f37072fd.pth\n"
          ]
        },
        {
          "output_type": "display_data",
          "data": {
            "text/plain": [
              "  0%|          | 0.00/44.7M [00:00<?, ?B/s]"
            ],
            "application/vnd.jupyter.widget-view+json": {
              "version_major": 2,
              "version_minor": 0,
              "model_id": "5510aab84205401282c502bf544bd1df"
            }
          },
          "metadata": {}
        }
      ],
      "source": [
        "metrics = [MIOU(), BackgroundIOU(), RoadIOU(), TrafficLightIOU(), \\\n",
        "           TrafficSignIOU(), PersonIOU(), VehicleIOU(), BicycleIOU()]\n",
        "\n",
        "learn = unet_learner(dls, arch=resnet18, pretrained=config.pretrained, metrics=metrics)"
      ]
    },
    {
      "cell_type": "markdown",
      "id": "88d45330-cfc2-44e9-8c0c-5eee417050b1",
      "metadata": {
        "id": "88d45330-cfc2-44e9-8c0c-5eee417050b1"
      },
      "source": [
        "In `fastai` we already have a callback that integrates tightly with W&B, we only need to pass the `WandbCallback` to the learner and we are ready to go. The callback will log all the useful variables for us. For example, whatever metric we pass to the learner will be tracked by the callback."
      ]
    },
    {
      "cell_type": "code",
      "execution_count": 15,
      "id": "87db7e5b",
      "metadata": {
        "id": "87db7e5b"
      },
      "outputs": [],
      "source": [
        "callbacks = [\n",
        "    SaveModelCallback(monitor='miou'),\n",
        "    WandbCallback(log_preds=False, log_model=True)\n",
        "]"
      ]
    },
    {
      "cell_type": "markdown",
      "id": "7dfe3c60-f4af-4e21-874d-13f119d03dd5",
      "metadata": {
        "id": "7dfe3c60-f4af-4e21-874d-13f119d03dd5"
      },
      "source": [
        "Let's train our model!"
      ]
    },
    {
      "cell_type": "code",
      "execution_count": 16,
      "id": "a1846493",
      "metadata": {
        "colab": {
          "base_uri": "https://localhost:8080/",
          "height": 543
        },
        "id": "a1846493",
        "outputId": "12d4e940-4eb6-4781-921b-5219f64bef99"
      },
      "outputs": [
        {
          "output_type": "display_data",
          "data": {
            "text/plain": [
              "<IPython.core.display.HTML object>"
            ],
            "text/html": [
              "\n",
              "<style>\n",
              "    /* Turns off some styling */\n",
              "    progress {\n",
              "        /* gets rid of default border in Firefox and Opera. */\n",
              "        border: none;\n",
              "        /* Needs to be in here for Safari polyfill so background images work as expected. */\n",
              "        background-size: auto;\n",
              "    }\n",
              "    progress:not([value]), progress:not([value])::-webkit-progress-bar {\n",
              "        background: repeating-linear-gradient(45deg, #7e7e7e, #7e7e7e 10px, #5c5c5c 10px, #5c5c5c 20px);\n",
              "    }\n",
              "    .progress-bar-interrupted, .progress-bar-interrupted::-webkit-progress-bar {\n",
              "        background: #F44336;\n",
              "    }\n",
              "</style>\n"
            ]
          },
          "metadata": {}
        },
        {
          "output_type": "display_data",
          "data": {
            "text/plain": [
              "<IPython.core.display.HTML object>"
            ],
            "text/html": [
              "<table border=\"1\" class=\"dataframe\">\n",
              "  <thead>\n",
              "    <tr style=\"text-align: left;\">\n",
              "      <th>epoch</th>\n",
              "      <th>train_loss</th>\n",
              "      <th>valid_loss</th>\n",
              "      <th>miou</th>\n",
              "      <th>background_iou</th>\n",
              "      <th>road_iou</th>\n",
              "      <th>traffic_light_iou</th>\n",
              "      <th>traffic_sign_iou</th>\n",
              "      <th>person_iou</th>\n",
              "      <th>vehicle_iou</th>\n",
              "      <th>bicycle_iou</th>\n",
              "      <th>time</th>\n",
              "    </tr>\n",
              "  </thead>\n",
              "  <tbody>\n",
              "    <tr>\n",
              "      <td>0</td>\n",
              "      <td>0.516169</td>\n",
              "      <td>0.336809</td>\n",
              "      <td>0.314355</td>\n",
              "      <td>0.868781</td>\n",
              "      <td>0.754929</td>\n",
              "      <td>0.000000</td>\n",
              "      <td>0.000000</td>\n",
              "      <td>0.000000</td>\n",
              "      <td>0.576777</td>\n",
              "      <td>0.000000</td>\n",
              "      <td>00:53</td>\n",
              "    </tr>\n",
              "    <tr>\n",
              "      <td>1</td>\n",
              "      <td>0.427955</td>\n",
              "      <td>0.422766</td>\n",
              "      <td>0.310513</td>\n",
              "      <td>0.840601</td>\n",
              "      <td>0.741062</td>\n",
              "      <td>0.000000</td>\n",
              "      <td>0.000000</td>\n",
              "      <td>0.000000</td>\n",
              "      <td>0.591929</td>\n",
              "      <td>0.000000</td>\n",
              "      <td>00:47</td>\n",
              "    </tr>\n",
              "    <tr>\n",
              "      <td>2</td>\n",
              "      <td>0.352022</td>\n",
              "      <td>0.280733</td>\n",
              "      <td>0.337271</td>\n",
              "      <td>0.893422</td>\n",
              "      <td>0.797161</td>\n",
              "      <td>0.000000</td>\n",
              "      <td>0.000000</td>\n",
              "      <td>0.000000</td>\n",
              "      <td>0.670311</td>\n",
              "      <td>0.000000</td>\n",
              "      <td>00:48</td>\n",
              "    </tr>\n",
              "    <tr>\n",
              "      <td>3</td>\n",
              "      <td>0.302347</td>\n",
              "      <td>0.253499</td>\n",
              "      <td>0.345636</td>\n",
              "      <td>0.904023</td>\n",
              "      <td>0.814617</td>\n",
              "      <td>0.000000</td>\n",
              "      <td>0.000000</td>\n",
              "      <td>0.000000</td>\n",
              "      <td>0.700814</td>\n",
              "      <td>0.000000</td>\n",
              "      <td>00:48</td>\n",
              "    </tr>\n",
              "    <tr>\n",
              "      <td>4</td>\n",
              "      <td>0.267212</td>\n",
              "      <td>0.275240</td>\n",
              "      <td>0.350772</td>\n",
              "      <td>0.912194</td>\n",
              "      <td>0.832787</td>\n",
              "      <td>0.000000</td>\n",
              "      <td>0.000000</td>\n",
              "      <td>0.000000</td>\n",
              "      <td>0.710420</td>\n",
              "      <td>0.000000</td>\n",
              "      <td>00:48</td>\n",
              "    </tr>\n",
              "    <tr>\n",
              "      <td>5</td>\n",
              "      <td>0.256848</td>\n",
              "      <td>0.237487</td>\n",
              "      <td>0.351310</td>\n",
              "      <td>0.916247</td>\n",
              "      <td>0.827000</td>\n",
              "      <td>0.000000</td>\n",
              "      <td>0.000000</td>\n",
              "      <td>0.000000</td>\n",
              "      <td>0.715921</td>\n",
              "      <td>0.000000</td>\n",
              "      <td>00:48</td>\n",
              "    </tr>\n",
              "    <tr>\n",
              "      <td>6</td>\n",
              "      <td>0.223702</td>\n",
              "      <td>0.232300</td>\n",
              "      <td>0.360914</td>\n",
              "      <td>0.913801</td>\n",
              "      <td>0.831859</td>\n",
              "      <td>0.043097</td>\n",
              "      <td>0.000000</td>\n",
              "      <td>0.000000</td>\n",
              "      <td>0.737642</td>\n",
              "      <td>0.000000</td>\n",
              "      <td>00:48</td>\n",
              "    </tr>\n",
              "    <tr>\n",
              "      <td>7</td>\n",
              "      <td>0.205346</td>\n",
              "      <td>0.224192</td>\n",
              "      <td>0.363858</td>\n",
              "      <td>0.916553</td>\n",
              "      <td>0.834793</td>\n",
              "      <td>0.042794</td>\n",
              "      <td>0.000000</td>\n",
              "      <td>0.000000</td>\n",
              "      <td>0.752867</td>\n",
              "      <td>0.000000</td>\n",
              "      <td>00:48</td>\n",
              "    </tr>\n",
              "    <tr>\n",
              "      <td>8</td>\n",
              "      <td>0.188045</td>\n",
              "      <td>0.227589</td>\n",
              "      <td>0.372284</td>\n",
              "      <td>0.920192</td>\n",
              "      <td>0.839749</td>\n",
              "      <td>0.089989</td>\n",
              "      <td>0.000067</td>\n",
              "      <td>0.000000</td>\n",
              "      <td>0.755988</td>\n",
              "      <td>0.000000</td>\n",
              "      <td>00:48</td>\n",
              "    </tr>\n",
              "    <tr>\n",
              "      <td>9</td>\n",
              "      <td>0.179574</td>\n",
              "      <td>0.220529</td>\n",
              "      <td>0.376207</td>\n",
              "      <td>0.921494</td>\n",
              "      <td>0.844433</td>\n",
              "      <td>0.105224</td>\n",
              "      <td>0.000337</td>\n",
              "      <td>0.000000</td>\n",
              "      <td>0.761960</td>\n",
              "      <td>0.000000</td>\n",
              "      <td>00:49</td>\n",
              "    </tr>\n",
              "  </tbody>\n",
              "</table>"
            ]
          },
          "metadata": {}
        },
        {
          "output_type": "stream",
          "name": "stdout",
          "text": [
            "Better model found at epoch 0 with miou value: 0.3143552792589957.\n",
            "Better model found at epoch 2 with miou value: 0.33727060291956296.\n",
            "Better model found at epoch 3 with miou value: 0.3456362496596497.\n",
            "Better model found at epoch 4 with miou value: 0.3507716617444684.\n",
            "Better model found at epoch 5 with miou value: 0.3513096369272132.\n",
            "Better model found at epoch 6 with miou value: 0.36091413397622635.\n",
            "Better model found at epoch 7 with miou value: 0.36385804629377916.\n",
            "Better model found at epoch 8 with miou value: 0.3722835928827707.\n",
            "Better model found at epoch 9 with miou value: 0.3762068005646828.\n"
          ]
        }
      ],
      "source": [
        "learn.fit_one_cycle(config.epochs, config.lr, cbs=callbacks)"
      ]
    },
    {
      "cell_type": "markdown",
      "id": "976ac11f-ad6c-4f9d-b2b0-6acb8d7af34a",
      "metadata": {
        "id": "976ac11f-ad6c-4f9d-b2b0-6acb8d7af34a"
      },
      "source": [
        "We will log a table with model predictions and ground truth to W&B, so that we can do error analysis in the W&B dashboard. "
      ]
    },
    {
      "cell_type": "code",
      "execution_count": 17,
      "id": "387dc2d8",
      "metadata": {
        "colab": {
          "base_uri": "https://localhost:8080/",
          "height": 37
        },
        "id": "387dc2d8",
        "outputId": "28bc6827-4cde-4347-9922-ccc8b0b768db"
      },
      "outputs": [
        {
          "output_type": "display_data",
          "data": {
            "text/plain": [
              "<IPython.core.display.HTML object>"
            ],
            "text/html": [
              "\n",
              "<style>\n",
              "    /* Turns off some styling */\n",
              "    progress {\n",
              "        /* gets rid of default border in Firefox and Opera. */\n",
              "        border: none;\n",
              "        /* Needs to be in here for Safari polyfill so background images work as expected. */\n",
              "        background-size: auto;\n",
              "    }\n",
              "    progress:not([value]), progress:not([value])::-webkit-progress-bar {\n",
              "        background: repeating-linear-gradient(45deg, #7e7e7e, #7e7e7e 10px, #5c5c5c 10px, #5c5c5c 20px);\n",
              "    }\n",
              "    .progress-bar-interrupted, .progress-bar-interrupted::-webkit-progress-bar {\n",
              "        background: #F44336;\n",
              "    }\n",
              "</style>\n"
            ]
          },
          "metadata": {}
        },
        {
          "output_type": "display_data",
          "data": {
            "text/plain": [
              "<IPython.core.display.HTML object>"
            ],
            "text/html": []
          },
          "metadata": {}
        },
        {
          "output_type": "display_data",
          "data": {
            "text/plain": [
              "<IPython.core.display.HTML object>"
            ],
            "text/html": [
              "\n",
              "<style>\n",
              "    /* Turns off some styling */\n",
              "    progress {\n",
              "        /* gets rid of default border in Firefox and Opera. */\n",
              "        border: none;\n",
              "        /* Needs to be in here for Safari polyfill so background images work as expected. */\n",
              "        background-size: auto;\n",
              "    }\n",
              "    progress:not([value]), progress:not([value])::-webkit-progress-bar {\n",
              "        background: repeating-linear-gradient(45deg, #7e7e7e, #7e7e7e 10px, #5c5c5c 10px, #5c5c5c 20px);\n",
              "    }\n",
              "    .progress-bar-interrupted, .progress-bar-interrupted::-webkit-progress-bar {\n",
              "        background: #F44336;\n",
              "    }\n",
              "</style>\n"
            ]
          },
          "metadata": {}
        },
        {
          "output_type": "display_data",
          "data": {
            "text/plain": [
              "<IPython.core.display.HTML object>"
            ],
            "text/html": [
              "\n",
              "    <div>\n",
              "      <progress value='100' class='' max='100' style='width:300px; height:20px; vertical-align: middle;'></progress>\n",
              "      100.00% [100/100 00:11&lt;00:00]\n",
              "    </div>\n",
              "    "
            ]
          },
          "metadata": {}
        }
      ],
      "source": [
        "samples, outputs, predictions = get_predictions(learn)\n",
        "table = create_iou_table(samples, outputs, predictions, params.BDD_CLASSES)\n",
        "wandb.log({\"pred_table\":table})"
      ]
    },
    {
      "cell_type": "markdown",
      "id": "b913a7ca-1250-4a61-a011-d333110bb927",
      "metadata": {
        "id": "b913a7ca-1250-4a61-a011-d333110bb927"
      },
      "source": [
        "We are reloading the model from the best checkpoint at the end and saving it. To make sure we track the final metrics correctly, we will validate the model again and save the final loss and metrics to `wandb.summary`. "
      ]
    },
    {
      "cell_type": "code",
      "execution_count": 18,
      "id": "d6ec120e",
      "metadata": {
        "colab": {
          "base_uri": "https://localhost:8080/",
          "height": 17
        },
        "id": "d6ec120e",
        "outputId": "ef24142a-6d7b-4d31-ddb2-db9ef011a7ea"
      },
      "outputs": [
        {
          "output_type": "display_data",
          "data": {
            "text/plain": [
              "<IPython.core.display.HTML object>"
            ],
            "text/html": [
              "\n",
              "<style>\n",
              "    /* Turns off some styling */\n",
              "    progress {\n",
              "        /* gets rid of default border in Firefox and Opera. */\n",
              "        border: none;\n",
              "        /* Needs to be in here for Safari polyfill so background images work as expected. */\n",
              "        background-size: auto;\n",
              "    }\n",
              "    progress:not([value]), progress:not([value])::-webkit-progress-bar {\n",
              "        background: repeating-linear-gradient(45deg, #7e7e7e, #7e7e7e 10px, #5c5c5c 10px, #5c5c5c 20px);\n",
              "    }\n",
              "    .progress-bar-interrupted, .progress-bar-interrupted::-webkit-progress-bar {\n",
              "        background: #F44336;\n",
              "    }\n",
              "</style>\n"
            ]
          },
          "metadata": {}
        },
        {
          "output_type": "display_data",
          "data": {
            "text/plain": [
              "<IPython.core.display.HTML object>"
            ],
            "text/html": []
          },
          "metadata": {}
        }
      ],
      "source": [
        "scores = learn.validate()\n",
        "metric_names = ['final_loss'] + [f'final_{x.name}' for x in metrics]\n",
        "final_results = {metric_names[i] : scores[i] for i in range(len(scores))}\n",
        "for k,v in final_results.items(): \n",
        "    wandb.summary[k] = v"
      ]
    },
    {
      "cell_type": "code",
      "execution_count": 19,
      "id": "53f86720",
      "metadata": {
        "colab": {
          "base_uri": "https://localhost:8080/",
          "height": 974
        },
        "id": "53f86720",
        "outputId": "6458bf8e-7e4a-43ee-bf50-c9de4758297e"
      },
      "outputs": [
        {
          "output_type": "display_data",
          "data": {
            "text/plain": [
              "<IPython.core.display.HTML object>"
            ],
            "text/html": [
              "Waiting for W&B process to finish... <strong style=\"color:green\">(success).</strong>"
            ]
          },
          "metadata": {}
        },
        {
          "output_type": "display_data",
          "data": {
            "text/plain": [
              "<IPython.core.display.HTML object>"
            ],
            "text/html": [
              "<style>\n",
              "    table.wandb td:nth-child(1) { padding: 0 10px; text-align: left ; width: auto;} td:nth-child(2) {text-align: left ; width: 100%}\n",
              "    .wandb-row { display: flex; flex-direction: row; flex-wrap: wrap; justify-content: flex-start; width: 100% }\n",
              "    .wandb-col { display: flex; flex-direction: column; flex-basis: 100%; flex: 1; padding: 10px; }\n",
              "    </style>\n",
              "<div class=\"wandb-row\"><div class=\"wandb-col\"><h3>Run history:</h3><br/><table class=\"wandb\"><tr><td>background_iou</td><td>▃▁▆▆▇█▇███</td></tr><tr><td>bicycle_iou</td><td>▁▁▁▁▁▁▁▁▁▁</td></tr><tr><td>epoch</td><td>▁▁▁▂▂▂▂▂▂▃▃▃▃▃▄▄▄▄▄▄▅▅▅▅▅▅▆▆▆▆▆▇▇▇▇▇▇███</td></tr><tr><td>eps_0</td><td>▁▁▁▁▁▁▁▁▁▁▁▁▁▁▁▁▁▁▁▁▁▁▁▁▁▁▁▁▁▁▁▁▁▁▁▁▁▁▁▁</td></tr><tr><td>eps_1</td><td>▁▁▁▁▁▁▁▁▁▁▁▁▁▁▁▁▁▁▁▁▁▁▁▁▁▁▁▁▁▁▁▁▁▁▁▁▁▁▁▁</td></tr><tr><td>eps_2</td><td>▁▁▁▁▁▁▁▁▁▁▁▁▁▁▁▁▁▁▁▁▁▁▁▁▁▁▁▁▁▁▁▁▁▁▁▁▁▁▁▁</td></tr><tr><td>lr_0</td><td>▁▂▂▃▄▅▆▇███████▇▇▇▇▆▆▆▅▅▅▄▄▄▃▃▃▂▂▂▁▁▁▁▁▁</td></tr><tr><td>lr_1</td><td>▁▂▂▃▄▅▆▇███████▇▇▇▇▆▆▆▅▅▅▄▄▄▃▃▃▂▂▂▁▁▁▁▁▁</td></tr><tr><td>lr_2</td><td>▁▂▂▃▄▅▆▇███████▇▇▇▇▆▆▆▅▅▅▄▄▄▃▃▃▂▂▂▁▁▁▁▁▁</td></tr><tr><td>miou</td><td>▁▁▄▅▅▅▆▇██</td></tr><tr><td>mom_0</td><td>██▇▆▅▄▃▂▁▁▁▁▁▁▁▂▂▂▂▃▃▃▄▄▄▅▅▅▆▆▆▇▇▇██████</td></tr><tr><td>mom_1</td><td>██▇▆▅▄▃▂▁▁▁▁▁▁▁▂▂▂▂▃▃▃▄▄▄▅▅▅▆▆▆▇▇▇██████</td></tr><tr><td>mom_2</td><td>██▇▆▅▄▃▂▁▁▁▁▁▁▁▂▂▂▂▃▃▃▄▄▄▅▅▅▆▆▆▇▇▇██████</td></tr><tr><td>person_iou</td><td>▁▁▁▁▁▁▁▁▁▁</td></tr><tr><td>raw_loss</td><td>▇▄▃█▃▂▅▃▄▂▃▄▂▂▃▃▂▂▁▂▂▂▂▁▂▁▁▁▂▂▂▂▁▁▂▁▁▁▁▁</td></tr><tr><td>road_iou</td><td>▂▁▅▆▇▇▇▇██</td></tr><tr><td>sqr_mom_0</td><td>▁▁▁▁▁▁▁▁▁▁▁▁▁▁▁▁▁▁▁▁▁▁▁▁▁▁▁▁▁▁▁▁▁▁▁▁▁▁▁▁</td></tr><tr><td>sqr_mom_1</td><td>▁▁▁▁▁▁▁▁▁▁▁▁▁▁▁▁▁▁▁▁▁▁▁▁▁▁▁▁▁▁▁▁▁▁▁▁▁▁▁▁</td></tr><tr><td>sqr_mom_2</td><td>▁▁▁▁▁▁▁▁▁▁▁▁▁▁▁▁▁▁▁▁▁▁▁▁▁▁▁▁▁▁▁▁▁▁▁▁▁▁▁▁</td></tr><tr><td>traffic_light_iou</td><td>▁▁▁▁▁▁▄▄▇█</td></tr><tr><td>traffic_sign_iou</td><td>▁▁▁▁▁▁▁▁▂█</td></tr><tr><td>train_loss</td><td>█▅▄▃▃▃▂▂▂▂▂▂▂▂▂▂▂▂▁▁▁▂▁▁▁▁▁▁▁▁▁▁▁▁▁▁▁▁▁▁</td></tr><tr><td>train_samples_per_sec</td><td>█▄▆▆▆▂▃▆▅▅▆▄▆▅▁▅▅▅▅▅▅▄▂▄▁▄▄▄▅▄▁▄▃▄▄▄▃▄▃▄</td></tr><tr><td>valid_loss</td><td>▅█▃▂▃▂▁▁▁▁</td></tr><tr><td>vehicle_iou</td><td>▁▂▅▆▆▆▇███</td></tr><tr><td>wd_0</td><td>▁▁▁▁▁▁▁▁▁▁▁▁▁▁▁▁▁▁▁▁▁▁▁▁▁▁▁▁▁▁▁▁▁▁▁▁▁▁▁▁</td></tr><tr><td>wd_1</td><td>▁▁▁▁▁▁▁▁▁▁▁▁▁▁▁▁▁▁▁▁▁▁▁▁▁▁▁▁▁▁▁▁▁▁▁▁▁▁▁▁</td></tr><tr><td>wd_2</td><td>▁▁▁▁▁▁▁▁▁▁▁▁▁▁▁▁▁▁▁▁▁▁▁▁▁▁▁▁▁▁▁▁▁▁▁▁▁▁▁▁</td></tr></table><br/></div><div class=\"wandb-col\"><h3>Run summary:</h3><br/><table class=\"wandb\"><tr><td>background_iou</td><td>0.92149</td></tr><tr><td>bicycle_iou</td><td>0.0</td></tr><tr><td>epoch</td><td>10</td></tr><tr><td>eps_0</td><td>1e-05</td></tr><tr><td>eps_1</td><td>1e-05</td></tr><tr><td>eps_2</td><td>1e-05</td></tr><tr><td>final_background_iou</td><td>0.92149</td></tr><tr><td>final_bicycle_iou</td><td>0.0</td></tr><tr><td>final_loss</td><td>0.22053</td></tr><tr><td>final_miou</td><td>0.37621</td></tr><tr><td>final_person_iou</td><td>0.0</td></tr><tr><td>final_road_iou</td><td>0.84443</td></tr><tr><td>final_traffic_light_iou</td><td>0.10522</td></tr><tr><td>final_traffic_sign_iou</td><td>0.00034</td></tr><tr><td>final_vehicle_iou</td><td>0.76196</td></tr><tr><td>lr_0</td><td>0.0</td></tr><tr><td>lr_1</td><td>0.0</td></tr><tr><td>lr_2</td><td>0.0</td></tr><tr><td>miou</td><td>0.37621</td></tr><tr><td>mom_0</td><td>0.95</td></tr><tr><td>mom_1</td><td>0.95</td></tr><tr><td>mom_2</td><td>0.95</td></tr><tr><td>person_iou</td><td>0.0</td></tr><tr><td>raw_loss</td><td>0.18481</td></tr><tr><td>road_iou</td><td>0.84443</td></tr><tr><td>sqr_mom_0</td><td>0.99</td></tr><tr><td>sqr_mom_1</td><td>0.99</td></tr><tr><td>sqr_mom_2</td><td>0.99</td></tr><tr><td>traffic_light_iou</td><td>0.10522</td></tr><tr><td>traffic_sign_iou</td><td>0.00034</td></tr><tr><td>train_loss</td><td>0.17957</td></tr><tr><td>train_samples_per_sec</td><td>20.63757</td></tr><tr><td>valid_loss</td><td>0.22053</td></tr><tr><td>vehicle_iou</td><td>0.76196</td></tr><tr><td>wd_0</td><td>0.01</td></tr><tr><td>wd_1</td><td>0.01</td></tr><tr><td>wd_2</td><td>0.01</td></tr></table><br/></div></div>"
            ]
          },
          "metadata": {}
        },
        {
          "output_type": "display_data",
          "data": {
            "text/plain": [
              "<IPython.core.display.HTML object>"
            ],
            "text/html": [
              " View run <strong style=\"color:#cdcd00\">royal-sky-5</strong> at: <a href='https://wandb.ai/novemberfifth/mlops-course-001/runs/okglrx4y' target=\"_blank\">https://wandb.ai/novemberfifth/mlops-course-001/runs/okglrx4y</a><br/>Synced 5 W&B file(s), 1 media file(s), 316 artifact file(s) and 1 other file(s)"
            ]
          },
          "metadata": {}
        },
        {
          "output_type": "display_data",
          "data": {
            "text/plain": [
              "<IPython.core.display.HTML object>"
            ],
            "text/html": [
              "Find logs at: <code>./wandb/run-20230224_105906-okglrx4y/logs</code>"
            ]
          },
          "metadata": {}
        }
      ],
      "source": [
        "wandb.finish()"
      ]
    }
  ],
  "metadata": {
    "kernelspec": {
      "display_name": "Python 3 (ipykernel)",
      "language": "python",
      "name": "python3"
    },
    "colab": {
      "provenance": [],
      "include_colab_link": true
    },
    "accelerator": "GPU",
    "gpuClass": "standard",
    "widgets": {
      "application/vnd.jupyter.widget-state+json": {
        "5510aab84205401282c502bf544bd1df": {
          "model_module": "@jupyter-widgets/controls",
          "model_name": "HBoxModel",
          "model_module_version": "1.5.0",
          "state": {
            "_dom_classes": [],
            "_model_module": "@jupyter-widgets/controls",
            "_model_module_version": "1.5.0",
            "_model_name": "HBoxModel",
            "_view_count": null,
            "_view_module": "@jupyter-widgets/controls",
            "_view_module_version": "1.5.0",
            "_view_name": "HBoxView",
            "box_style": "",
            "children": [
              "IPY_MODEL_e0cfc99a2f2249fa9f40db2ccb33fe6b",
              "IPY_MODEL_bf60ed8d951c4b0e97f0fc9ecf1ea6a2",
              "IPY_MODEL_48b31a9ef40d48cc9deee50409663830"
            ],
            "layout": "IPY_MODEL_f02bf6b397eb43518f35d961828bd7c4"
          }
        },
        "e0cfc99a2f2249fa9f40db2ccb33fe6b": {
          "model_module": "@jupyter-widgets/controls",
          "model_name": "HTMLModel",
          "model_module_version": "1.5.0",
          "state": {
            "_dom_classes": [],
            "_model_module": "@jupyter-widgets/controls",
            "_model_module_version": "1.5.0",
            "_model_name": "HTMLModel",
            "_view_count": null,
            "_view_module": "@jupyter-widgets/controls",
            "_view_module_version": "1.5.0",
            "_view_name": "HTMLView",
            "description": "",
            "description_tooltip": null,
            "layout": "IPY_MODEL_ad968f68d3f8417ab703b273dd545898",
            "placeholder": "​",
            "style": "IPY_MODEL_8b7395a0d96d49829a6dfcac88411c9f",
            "value": "100%"
          }
        },
        "bf60ed8d951c4b0e97f0fc9ecf1ea6a2": {
          "model_module": "@jupyter-widgets/controls",
          "model_name": "FloatProgressModel",
          "model_module_version": "1.5.0",
          "state": {
            "_dom_classes": [],
            "_model_module": "@jupyter-widgets/controls",
            "_model_module_version": "1.5.0",
            "_model_name": "FloatProgressModel",
            "_view_count": null,
            "_view_module": "@jupyter-widgets/controls",
            "_view_module_version": "1.5.0",
            "_view_name": "ProgressView",
            "bar_style": "success",
            "description": "",
            "description_tooltip": null,
            "layout": "IPY_MODEL_5ff3dc2076cd426b9838b0a3e1be584b",
            "max": 46830571,
            "min": 0,
            "orientation": "horizontal",
            "style": "IPY_MODEL_3a1de363a79540b6afa0ff04cb1c6a43",
            "value": 46830571
          }
        },
        "48b31a9ef40d48cc9deee50409663830": {
          "model_module": "@jupyter-widgets/controls",
          "model_name": "HTMLModel",
          "model_module_version": "1.5.0",
          "state": {
            "_dom_classes": [],
            "_model_module": "@jupyter-widgets/controls",
            "_model_module_version": "1.5.0",
            "_model_name": "HTMLModel",
            "_view_count": null,
            "_view_module": "@jupyter-widgets/controls",
            "_view_module_version": "1.5.0",
            "_view_name": "HTMLView",
            "description": "",
            "description_tooltip": null,
            "layout": "IPY_MODEL_cec683a4667c4026aae0fc4c396b0b5f",
            "placeholder": "​",
            "style": "IPY_MODEL_fef79bfa8b4b426ab705a8cafc0d38fb",
            "value": " 44.7M/44.7M [00:00&lt;00:00, 146MB/s]"
          }
        },
        "f02bf6b397eb43518f35d961828bd7c4": {
          "model_module": "@jupyter-widgets/base",
          "model_name": "LayoutModel",
          "model_module_version": "1.2.0",
          "state": {
            "_model_module": "@jupyter-widgets/base",
            "_model_module_version": "1.2.0",
            "_model_name": "LayoutModel",
            "_view_count": null,
            "_view_module": "@jupyter-widgets/base",
            "_view_module_version": "1.2.0",
            "_view_name": "LayoutView",
            "align_content": null,
            "align_items": null,
            "align_self": null,
            "border": null,
            "bottom": null,
            "display": null,
            "flex": null,
            "flex_flow": null,
            "grid_area": null,
            "grid_auto_columns": null,
            "grid_auto_flow": null,
            "grid_auto_rows": null,
            "grid_column": null,
            "grid_gap": null,
            "grid_row": null,
            "grid_template_areas": null,
            "grid_template_columns": null,
            "grid_template_rows": null,
            "height": null,
            "justify_content": null,
            "justify_items": null,
            "left": null,
            "margin": null,
            "max_height": null,
            "max_width": null,
            "min_height": null,
            "min_width": null,
            "object_fit": null,
            "object_position": null,
            "order": null,
            "overflow": null,
            "overflow_x": null,
            "overflow_y": null,
            "padding": null,
            "right": null,
            "top": null,
            "visibility": null,
            "width": null
          }
        },
        "ad968f68d3f8417ab703b273dd545898": {
          "model_module": "@jupyter-widgets/base",
          "model_name": "LayoutModel",
          "model_module_version": "1.2.0",
          "state": {
            "_model_module": "@jupyter-widgets/base",
            "_model_module_version": "1.2.0",
            "_model_name": "LayoutModel",
            "_view_count": null,
            "_view_module": "@jupyter-widgets/base",
            "_view_module_version": "1.2.0",
            "_view_name": "LayoutView",
            "align_content": null,
            "align_items": null,
            "align_self": null,
            "border": null,
            "bottom": null,
            "display": null,
            "flex": null,
            "flex_flow": null,
            "grid_area": null,
            "grid_auto_columns": null,
            "grid_auto_flow": null,
            "grid_auto_rows": null,
            "grid_column": null,
            "grid_gap": null,
            "grid_row": null,
            "grid_template_areas": null,
            "grid_template_columns": null,
            "grid_template_rows": null,
            "height": null,
            "justify_content": null,
            "justify_items": null,
            "left": null,
            "margin": null,
            "max_height": null,
            "max_width": null,
            "min_height": null,
            "min_width": null,
            "object_fit": null,
            "object_position": null,
            "order": null,
            "overflow": null,
            "overflow_x": null,
            "overflow_y": null,
            "padding": null,
            "right": null,
            "top": null,
            "visibility": null,
            "width": null
          }
        },
        "8b7395a0d96d49829a6dfcac88411c9f": {
          "model_module": "@jupyter-widgets/controls",
          "model_name": "DescriptionStyleModel",
          "model_module_version": "1.5.0",
          "state": {
            "_model_module": "@jupyter-widgets/controls",
            "_model_module_version": "1.5.0",
            "_model_name": "DescriptionStyleModel",
            "_view_count": null,
            "_view_module": "@jupyter-widgets/base",
            "_view_module_version": "1.2.0",
            "_view_name": "StyleView",
            "description_width": ""
          }
        },
        "5ff3dc2076cd426b9838b0a3e1be584b": {
          "model_module": "@jupyter-widgets/base",
          "model_name": "LayoutModel",
          "model_module_version": "1.2.0",
          "state": {
            "_model_module": "@jupyter-widgets/base",
            "_model_module_version": "1.2.0",
            "_model_name": "LayoutModel",
            "_view_count": null,
            "_view_module": "@jupyter-widgets/base",
            "_view_module_version": "1.2.0",
            "_view_name": "LayoutView",
            "align_content": null,
            "align_items": null,
            "align_self": null,
            "border": null,
            "bottom": null,
            "display": null,
            "flex": null,
            "flex_flow": null,
            "grid_area": null,
            "grid_auto_columns": null,
            "grid_auto_flow": null,
            "grid_auto_rows": null,
            "grid_column": null,
            "grid_gap": null,
            "grid_row": null,
            "grid_template_areas": null,
            "grid_template_columns": null,
            "grid_template_rows": null,
            "height": null,
            "justify_content": null,
            "justify_items": null,
            "left": null,
            "margin": null,
            "max_height": null,
            "max_width": null,
            "min_height": null,
            "min_width": null,
            "object_fit": null,
            "object_position": null,
            "order": null,
            "overflow": null,
            "overflow_x": null,
            "overflow_y": null,
            "padding": null,
            "right": null,
            "top": null,
            "visibility": null,
            "width": null
          }
        },
        "3a1de363a79540b6afa0ff04cb1c6a43": {
          "model_module": "@jupyter-widgets/controls",
          "model_name": "ProgressStyleModel",
          "model_module_version": "1.5.0",
          "state": {
            "_model_module": "@jupyter-widgets/controls",
            "_model_module_version": "1.5.0",
            "_model_name": "ProgressStyleModel",
            "_view_count": null,
            "_view_module": "@jupyter-widgets/base",
            "_view_module_version": "1.2.0",
            "_view_name": "StyleView",
            "bar_color": null,
            "description_width": ""
          }
        },
        "cec683a4667c4026aae0fc4c396b0b5f": {
          "model_module": "@jupyter-widgets/base",
          "model_name": "LayoutModel",
          "model_module_version": "1.2.0",
          "state": {
            "_model_module": "@jupyter-widgets/base",
            "_model_module_version": "1.2.0",
            "_model_name": "LayoutModel",
            "_view_count": null,
            "_view_module": "@jupyter-widgets/base",
            "_view_module_version": "1.2.0",
            "_view_name": "LayoutView",
            "align_content": null,
            "align_items": null,
            "align_self": null,
            "border": null,
            "bottom": null,
            "display": null,
            "flex": null,
            "flex_flow": null,
            "grid_area": null,
            "grid_auto_columns": null,
            "grid_auto_flow": null,
            "grid_auto_rows": null,
            "grid_column": null,
            "grid_gap": null,
            "grid_row": null,
            "grid_template_areas": null,
            "grid_template_columns": null,
            "grid_template_rows": null,
            "height": null,
            "justify_content": null,
            "justify_items": null,
            "left": null,
            "margin": null,
            "max_height": null,
            "max_width": null,
            "min_height": null,
            "min_width": null,
            "object_fit": null,
            "object_position": null,
            "order": null,
            "overflow": null,
            "overflow_x": null,
            "overflow_y": null,
            "padding": null,
            "right": null,
            "top": null,
            "visibility": null,
            "width": null
          }
        },
        "fef79bfa8b4b426ab705a8cafc0d38fb": {
          "model_module": "@jupyter-widgets/controls",
          "model_name": "DescriptionStyleModel",
          "model_module_version": "1.5.0",
          "state": {
            "_model_module": "@jupyter-widgets/controls",
            "_model_module_version": "1.5.0",
            "_model_name": "DescriptionStyleModel",
            "_view_count": null,
            "_view_module": "@jupyter-widgets/base",
            "_view_module_version": "1.2.0",
            "_view_name": "StyleView",
            "description_width": ""
          }
        }
      }
    }
  },
  "nbformat": 4,
  "nbformat_minor": 5
}