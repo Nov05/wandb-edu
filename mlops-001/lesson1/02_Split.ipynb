{
  "cells": [
    {
      "cell_type": "markdown",
      "metadata": {
        "id": "view-in-github",
        "colab_type": "text"
      },
      "source": [
        "<a href=\"https://colab.research.google.com/github/Nov05/wandb-edu/blob/main/mlops-001/lesson1/02_Split.ipynb\" target=\"_parent\"><img src=\"https://colab.research.google.com/assets/colab-badge.svg\" alt=\"Open In Colab\"/></a>"
      ]
    },
    {
      "cell_type": "markdown",
      "source": [
        "notebook changed by nov05 on 2023-02-24  \n",
        "go to [the github file](https://github.com/Nov05/wandb-edu/blob/main/mlops-001/lesson1/02_Split.ipynb), view it at [nbviewer](https://nbviewer.org/github/Nov05/wandb-edu/blob/92ecc403de4132f654e581dd9fac3e44f8bb8359/mlops-001/lesson1/02_Split.ipynb)   \n",
        "repo `wandb-edu` file path, `mlops-001/lesson1/02_Split.ipynb`  "
      ],
      "metadata": {
        "id": "n2ik58iScY_b"
      },
      "id": "n2ik58iScY_b"
    },
    {
      "cell_type": "code",
      "source": [
        "!wget https://raw.githubusercontent.com/Nov05/wandb-edu/2393150ad396928ab1421b0e2d6b259863348dcf/mlops-001/lesson1/utils.py\n",
        "!wget https://raw.githubusercontent.com/Nov05/wandb-edu/2393150ad396928ab1421b0e2d6b259863348dcf/mlops-001/lesson1/params.py"
      ],
      "metadata": {
        "id": "U9VkjO6xciov"
      },
      "id": "U9VkjO6xciov",
      "execution_count": null,
      "outputs": []
    },
    {
      "cell_type": "code",
      "source": [
        "!pip install wandb\n",
        "## wandb-0.13.10"
      ],
      "metadata": {
        "id": "wTi-y-i9crfY"
      },
      "id": "wTi-y-i9crfY",
      "execution_count": null,
      "outputs": []
    },
    {
      "cell_type": "markdown",
      "metadata": {
        "id": "pPhdfwbRcUXz"
      },
      "source": [
        "<a href=\"https://colab.research.google.com/github/wandb/edu/blob/main/mlops-001/lesson1/02_Split.ipynb\" target=\"_parent\"><img src=\"https://colab.research.google.com/assets/colab-badge.svg\" alt=\"Open In Colab\"/></a>\n",
        "<!--- @wandbcode{course-lesson1} -->"
      ],
      "id": "pPhdfwbRcUXz"
    },
    {
      "cell_type": "markdown",
      "id": "e6cc5437-1a17-4738-a3c7-f1959324f4ed",
      "metadata": {
        "id": "e6cc5437-1a17-4738-a3c7-f1959324f4ed"
      },
      "source": [
        "# Data preparation\n",
        "\n",
        "<!--- @wandbcode{course-lesson1} -->\n",
        "\n",
        "In this notebook we will prepare the data to later train our deep learning model. To do so,\n",
        "\n",
        "- we will start a new W&B `run` and use our raw data artifact\n",
        "- split the data and save the splits into a new W&B Artifact\n",
        "- join information about the split with our EDA Table"
      ]
    },
    {
      "cell_type": "code",
      "execution_count": 5,
      "id": "c8018ee4-8f0f-4e1d-a39d-d005bc9b4591",
      "metadata": {
        "id": "c8018ee4-8f0f-4e1d-a39d-d005bc9b4591"
      },
      "outputs": [],
      "source": [
        "import os, warnings\n",
        "import wandb\n",
        "\n",
        "import pandas as pd\n",
        "from fastai.vision.all import *\n",
        "from sklearn.model_selection import StratifiedGroupKFold\n",
        "\n",
        "import params\n",
        "warnings.filterwarnings('ignore')"
      ]
    },
    {
      "cell_type": "code",
      "execution_count": 6,
      "id": "423709e6-1f8c-4b90-8a7b-6ed6c05492ca",
      "metadata": {
        "colab": {
          "base_uri": "https://localhost:8080/",
          "height": 230
        },
        "id": "423709e6-1f8c-4b90-8a7b-6ed6c05492ca",
        "outputId": "429d23a2-60b1-4d94-87b8-ffc4b18c92ae"
      },
      "outputs": [
        {
          "output_type": "stream",
          "name": "stderr",
          "text": [
            "ERROR:wandb.jupyter:Failed to detect the name of this notebook, you can set it manually with the WANDB_NOTEBOOK_NAME environment variable to enable code saving.\n"
          ]
        },
        {
          "output_type": "display_data",
          "data": {
            "text/plain": [
              "<IPython.core.display.Javascript object>"
            ],
            "application/javascript": [
              "\n",
              "        window._wandbApiKey = new Promise((resolve, reject) => {\n",
              "            function loadScript(url) {\n",
              "            return new Promise(function(resolve, reject) {\n",
              "                let newScript = document.createElement(\"script\");\n",
              "                newScript.onerror = reject;\n",
              "                newScript.onload = resolve;\n",
              "                document.body.appendChild(newScript);\n",
              "                newScript.src = url;\n",
              "            });\n",
              "            }\n",
              "            loadScript(\"https://cdn.jsdelivr.net/npm/postmate/build/postmate.min.js\").then(() => {\n",
              "            const iframe = document.createElement('iframe')\n",
              "            iframe.style.cssText = \"width:0;height:0;border:none\"\n",
              "            document.body.appendChild(iframe)\n",
              "            const handshake = new Postmate({\n",
              "                container: iframe,\n",
              "                url: 'https://wandb.ai/authorize'\n",
              "            });\n",
              "            const timeout = setTimeout(() => reject(\"Couldn't auto authenticate\"), 5000)\n",
              "            handshake.then(function(child) {\n",
              "                child.on('authorize', data => {\n",
              "                    clearTimeout(timeout)\n",
              "                    resolve(data)\n",
              "                });\n",
              "            });\n",
              "            })\n",
              "        });\n",
              "    "
            ]
          },
          "metadata": {}
        },
        {
          "output_type": "stream",
          "name": "stderr",
          "text": [
            "\u001b[34m\u001b[1mwandb\u001b[0m: Logging into wandb.ai. (Learn how to deploy a W&B server locally: https://wandb.me/wandb-server)\n",
            "\u001b[34m\u001b[1mwandb\u001b[0m: You can find your API key in your browser here: https://wandb.ai/authorize\n",
            "wandb: Paste an API key from your profile and hit enter, or press ctrl+c to quit: "
          ]
        },
        {
          "name": "stdout",
          "output_type": "stream",
          "text": [
            "··········\n"
          ]
        },
        {
          "output_type": "stream",
          "name": "stderr",
          "text": [
            "\u001b[34m\u001b[1mwandb\u001b[0m: Appending key for api.wandb.ai to your netrc file: /root/.netrc\n"
          ]
        },
        {
          "output_type": "display_data",
          "data": {
            "text/plain": [
              "<IPython.core.display.HTML object>"
            ],
            "text/html": [
              "Tracking run with wandb version 0.13.10"
            ]
          },
          "metadata": {}
        },
        {
          "output_type": "display_data",
          "data": {
            "text/plain": [
              "<IPython.core.display.HTML object>"
            ],
            "text/html": [
              "Run data is saved locally in <code>/content/wandb/run-20230224_080443-gzlvdhur</code>"
            ]
          },
          "metadata": {}
        },
        {
          "output_type": "display_data",
          "data": {
            "text/plain": [
              "<IPython.core.display.HTML object>"
            ],
            "text/html": [
              "Syncing run <strong><a href='https://wandb.ai/novemberfifth/mlops-course-001/runs/gzlvdhur' target=\"_blank\">leafy-bird-2</a></strong> to <a href='https://wandb.ai/novemberfifth/mlops-course-001' target=\"_blank\">Weights & Biases</a> (<a href='https://wandb.me/run' target=\"_blank\">docs</a>)<br/>"
            ]
          },
          "metadata": {}
        },
        {
          "output_type": "display_data",
          "data": {
            "text/plain": [
              "<IPython.core.display.HTML object>"
            ],
            "text/html": [
              " View project at <a href='https://wandb.ai/novemberfifth/mlops-course-001' target=\"_blank\">https://wandb.ai/novemberfifth/mlops-course-001</a>"
            ]
          },
          "metadata": {}
        },
        {
          "output_type": "display_data",
          "data": {
            "text/plain": [
              "<IPython.core.display.HTML object>"
            ],
            "text/html": [
              " View run at <a href='https://wandb.ai/novemberfifth/mlops-course-001/runs/gzlvdhur' target=\"_blank\">https://wandb.ai/novemberfifth/mlops-course-001/runs/gzlvdhur</a>"
            ]
          },
          "metadata": {}
        }
      ],
      "source": [
        "run = wandb.init(project=params.WANDB_PROJECT, entity=params.ENTITY, job_type=\"data_split\")"
      ]
    },
    {
      "cell_type": "markdown",
      "id": "99b9419f-e0cc-4e57-b0f4-e9273fec996b",
      "metadata": {
        "id": "99b9419f-e0cc-4e57-b0f4-e9273fec996b"
      },
      "source": [
        "Let's use artifact we previously saved to W&B (we're storing artifact names and other global parameters in `params`)."
      ]
    },
    {
      "cell_type": "code",
      "execution_count": 21,
      "id": "7841e7a1-188e-4021-9c2b-b662b7a13a08",
      "metadata": {
        "colab": {
          "base_uri": "https://localhost:8080/"
        },
        "id": "7841e7a1-188e-4021-9c2b-b662b7a13a08",
        "outputId": "dd56363f-18b7-44e1-884c-4003c1ddf623"
      },
      "outputs": [
        {
          "output_type": "stream",
          "name": "stderr",
          "text": [
            "\u001b[34m\u001b[1mwandb\u001b[0m: Downloading large artifact bdd_simple_1k:latest, 813.75MB. 4007 files... \n",
            "\u001b[34m\u001b[1mwandb\u001b[0m:   4007 of 4007 files downloaded.  \n",
            "Done. 0:0:39.0\n"
          ]
        }
      ],
      "source": [
        "raw_data_at = run.use_artifact(f'{params.RAW_DATA_AT}:latest')\n",
        "path = Path(raw_data_at.download())"
      ]
    },
    {
      "cell_type": "code",
      "execution_count": 22,
      "id": "160fcb5d-3a3b-40a6-b131-60b33ea3b530",
      "metadata": {
        "colab": {
          "base_uri": "https://localhost:8080/"
        },
        "id": "160fcb5d-3a3b-40a6-b131-60b33ea3b530",
        "outputId": "4f2b99f9-355b-492a-eb70-39f292661bf4"
      },
      "outputs": [
        {
          "output_type": "execute_result",
          "data": {
            "text/plain": [
              "(#5) [Path('artifacts/bdd_simple_1k:v1/LICENSE.txt'),Path('artifacts/bdd_simple_1k:v1/media'),Path('artifacts/bdd_simple_1k:v1/eda_table.table.json'),Path('artifacts/bdd_simple_1k:v1/images'),Path('artifacts/bdd_simple_1k:v1/labels')]"
            ]
          },
          "metadata": {},
          "execution_count": 22
        }
      ],
      "source": [
        "path.ls()"
      ]
    },
    {
      "cell_type": "markdown",
      "id": "4fbbb8be-49cc-46c2-b563-b90d14892708",
      "metadata": {
        "id": "4fbbb8be-49cc-46c2-b563-b90d14892708"
      },
      "source": [
        "To split data between training, testing and validation, we need file names, groups (derived from the file name) and target (here we use our rare class bicycle for stratification). We previously saved these columns to EDA table, so let's retrieve it from the table now. "
      ]
    },
    {
      "cell_type": "code",
      "execution_count": 24,
      "id": "156ac385-610f-43c8-ab3a-8ab91a1cbc06",
      "metadata": {
        "colab": {
          "base_uri": "https://localhost:8080/"
        },
        "id": "156ac385-610f-43c8-ab3a-8ab91a1cbc06",
        "outputId": "d2fc74a4-1bcc-455a-f5cf-6b74b7f1ed48"
      },
      "outputs": [
        {
          "output_type": "stream",
          "name": "stdout",
          "text": [
            "373e20c8-82cb9d82.jpg 1000\n",
            "373e20c8 1000\n"
          ]
        }
      ],
      "source": [
        "fnames = os.listdir(path/'images')\n",
        "groups = [s.split('-')[0] for s in fnames]\n",
        "print(fnames[0], len(fnames))\n",
        "print(groups[0], len(groups))"
      ]
    },
    {
      "cell_type": "code",
      "execution_count": 25,
      "id": "42d93918-c51e-4501-9b2a-9ea87ae1184a",
      "metadata": {
        "colab": {
          "base_uri": "https://localhost:8080/"
        },
        "id": "42d93918-c51e-4501-9b2a-9ea87ae1184a",
        "outputId": "31db4d50-126b-406f-c7db-371ce3f16813"
      },
      "outputs": [
        {
          "output_type": "stream",
          "name": "stderr",
          "text": [
            "\u001b[34m\u001b[1mwandb\u001b[0m: Downloading large artifact bdd_simple_1k:latest, 813.75MB. 4007 files... \n",
            "\u001b[34m\u001b[1mwandb\u001b[0m:   4007 of 4007 files downloaded.  \n",
            "Done. 0:0:0.6\n"
          ]
        }
      ],
      "source": [
        "orig_eda_table = raw_data_at.get(\"eda_table\")"
      ]
    },
    {
      "cell_type": "code",
      "execution_count": 26,
      "id": "6a31eef6-725a-4eaa-9bb4-bec9aeaf4414",
      "metadata": {
        "colab": {
          "base_uri": "https://localhost:8080/"
        },
        "id": "6a31eef6-725a-4eaa-9bb4-bec9aeaf4414",
        "outputId": "db232bf9-369b-4a47-89aa-ad1b10f23254"
      },
      "outputs": [
        {
          "output_type": "stream",
          "name": "stdout",
          "text": [
            "1000\n"
          ]
        }
      ],
      "source": [
        "y = orig_eda_table.get_column('bicycle')\n",
        "print(len(y))"
      ]
    },
    {
      "cell_type": "markdown",
      "id": "735730ed-e4c0-4ca6-82be-22a517cd74bc",
      "metadata": {
        "id": "735730ed-e4c0-4ca6-82be-22a517cd74bc"
      },
      "source": [
        "Now we will split the data into train (80%), validation (10%) and test (10%) sets. As we do that, we need to be careful to:\n",
        "\n",
        "- *avoid leakage*: for that reason we are grouping data according to video identifier (we want to make sure our model can generalize to new cars or video frames)\n",
        "- handle the *label imbalance*: for that reason we stratify data with our target column\n",
        "\n",
        "We will use sklearn's `StratifiedGroupKFold` to split the data into 10 folds and assign 1 fold for test, 1 for validation and the rest for training."
      ]
    },
    {
      "cell_type": "code",
      "execution_count": 27,
      "id": "1af79361-0aea-4ecd-bfaf-3bc034286cf5",
      "metadata": {
        "id": "1af79361-0aea-4ecd-bfaf-3bc034286cf5"
      },
      "outputs": [],
      "source": [
        "df = pd.DataFrame()\n",
        "df['File_Name'] = fnames\n",
        "df['fold'] = -1"
      ]
    },
    {
      "cell_type": "code",
      "execution_count": 28,
      "id": "f09ceb74-d7dc-4a3b-9bca-7a30f3a1de23",
      "metadata": {
        "id": "f09ceb74-d7dc-4a3b-9bca-7a30f3a1de23"
      },
      "outputs": [],
      "source": [
        "cv = StratifiedGroupKFold(n_splits=10)\n",
        "for i, (train_idxs, test_idxs) in enumerate(cv.split(fnames, y, groups)):\n",
        "    df.loc[test_idxs, ['fold']] = i\n",
        "## if you run into the following error, go back to 01_EDA.ipynb and set \"DEBUG = False\"\n",
        "## ValueError: Found input variables with inconsistent numbers of samples: [1000, 10, 1000]"
      ]
    },
    {
      "cell_type": "code",
      "execution_count": 29,
      "id": "ced2899d-dc7e-4769-92e5-f0eaf585a4cf",
      "metadata": {
        "colab": {
          "base_uri": "https://localhost:8080/"
        },
        "id": "ced2899d-dc7e-4769-92e5-f0eaf585a4cf",
        "outputId": "e5ce3f39-018a-4d60-9c22-886838b76ae8"
      },
      "outputs": [
        {
          "output_type": "execute_result",
          "data": {
            "text/plain": [
              "train    800\n",
              "test     100\n",
              "valid    100\n",
              "Name: Stage, dtype: int64"
            ]
          },
          "metadata": {},
          "execution_count": 29
        }
      ],
      "source": [
        "df['Stage'] = 'train'\n",
        "df.loc[df.fold == 0, ['Stage']] = 'test'\n",
        "df.loc[df.fold == 1, ['Stage']] = 'valid'\n",
        "del df['fold']\n",
        "df.Stage.value_counts()"
      ]
    },
    {
      "cell_type": "code",
      "execution_count": 30,
      "id": "3b322c8d-dab6-4f21-8b0b-22fac2de3aae",
      "metadata": {
        "id": "3b322c8d-dab6-4f21-8b0b-22fac2de3aae"
      },
      "outputs": [],
      "source": [
        "df.to_csv('data_split.csv', index=False)"
      ]
    },
    {
      "cell_type": "markdown",
      "id": "b7fd8322-a52b-4f69-a716-04ce4b4ffb5b",
      "metadata": {
        "id": "b7fd8322-a52b-4f69-a716-04ce4b4ffb5b"
      },
      "source": [
        "We will now create a new artifact and add our data there. "
      ]
    },
    {
      "cell_type": "code",
      "execution_count": 31,
      "id": "7369b2a4-6c0b-44fb-8850-c8bfebd105ef",
      "metadata": {
        "id": "7369b2a4-6c0b-44fb-8850-c8bfebd105ef"
      },
      "outputs": [],
      "source": [
        "processed_data_at = wandb.Artifact(params.PROCESSED_DATA_AT, type=\"split_data\")"
      ]
    },
    {
      "cell_type": "code",
      "execution_count": 32,
      "id": "b264b216-ef03-4417-88df-6fc27865c1f5",
      "metadata": {
        "colab": {
          "base_uri": "https://localhost:8080/"
        },
        "id": "b264b216-ef03-4417-88df-6fc27865c1f5",
        "outputId": "285231ca-d4ba-44bf-b429-0f43abaefd9c"
      },
      "outputs": [
        {
          "output_type": "stream",
          "name": "stderr",
          "text": [
            "\u001b[34m\u001b[1mwandb\u001b[0m: Adding directory to artifact (./artifacts/bdd_simple_1k:v1)... Done. 7.5s\n"
          ]
        }
      ],
      "source": [
        "processed_data_at.add_file('data_split.csv')\n",
        "processed_data_at.add_dir(path)"
      ]
    },
    {
      "cell_type": "markdown",
      "id": "7df4949c-c9de-4e0b-990e-58e98b2121e3",
      "metadata": {
        "id": "7df4949c-c9de-4e0b-990e-58e98b2121e3"
      },
      "source": [
        "Finally, the split information may be relevant for our analyses - rather than uploading images again, we will save the split information to a new table and join it with EDA table we created previously. "
      ]
    },
    {
      "cell_type": "code",
      "execution_count": 33,
      "id": "818a359a-6b54-4f65-b5d9-732bbe5eb91a",
      "metadata": {
        "id": "818a359a-6b54-4f65-b5d9-732bbe5eb91a"
      },
      "outputs": [],
      "source": [
        "data_split_table = wandb.Table(dataframe=df[['File_Name', 'Stage']])"
      ]
    },
    {
      "cell_type": "code",
      "execution_count": 34,
      "id": "eedc9255-2ee3-4015-bdd3-a8449a120895",
      "metadata": {
        "id": "eedc9255-2ee3-4015-bdd3-a8449a120895"
      },
      "outputs": [],
      "source": [
        "join_table = wandb.JoinedTable(orig_eda_table, data_split_table, \"File_Name\")"
      ]
    },
    {
      "cell_type": "markdown",
      "id": "998b2369-d11b-4fef-a709-69cdc333ee1b",
      "metadata": {
        "id": "998b2369-d11b-4fef-a709-69cdc333ee1b"
      },
      "source": [
        "Let's add it to our artifact, log it and finish our `run`. "
      ]
    },
    {
      "cell_type": "code",
      "execution_count": 35,
      "id": "42157919-05b2-4e28-8dc4-350160c0ae53",
      "metadata": {
        "colab": {
          "base_uri": "https://localhost:8080/"
        },
        "id": "42157919-05b2-4e28-8dc4-350160c0ae53",
        "outputId": "bdd7e13a-4ac9-4918-c13c-05a81f17fc3a"
      },
      "outputs": [
        {
          "output_type": "execute_result",
          "data": {
            "text/plain": [
              "ArtifactManifestEntry(path='eda_table_data_split.joined-table.json', digest='rBpUlYKsLTATlaDODsUNdg==', ref=None, birth_artifact_id=None, size=127, extra={}, local_path='/root/.local/share/wandb/artifacts/staging/tmpc3_cxnb4')"
            ]
          },
          "metadata": {},
          "execution_count": 35
        }
      ],
      "source": [
        "processed_data_at.add(join_table, \"eda_table_data_split\")"
      ]
    },
    {
      "cell_type": "code",
      "execution_count": 36,
      "id": "1a6745c3-1ab6-4ebf-8f89-07d6da09fe65",
      "metadata": {
        "colab": {
          "base_uri": "https://localhost:8080/",
          "height": 87
        },
        "id": "1a6745c3-1ab6-4ebf-8f89-07d6da09fe65",
        "outputId": "fa4489af-6c7b-440b-d909-2a545ef98d08"
      },
      "outputs": [
        {
          "output_type": "display_data",
          "data": {
            "text/plain": [
              "<IPython.core.display.HTML object>"
            ],
            "text/html": [
              "Waiting for W&B process to finish... <strong style=\"color:green\">(success).</strong>"
            ]
          },
          "metadata": {}
        },
        {
          "output_type": "display_data",
          "data": {
            "text/plain": [
              "<IPython.core.display.HTML object>"
            ],
            "text/html": [
              " View run <strong style=\"color:#cdcd00\">leafy-bird-2</strong> at: <a href='https://wandb.ai/novemberfifth/mlops-course-001/runs/gzlvdhur' target=\"_blank\">https://wandb.ai/novemberfifth/mlops-course-001/runs/gzlvdhur</a><br/>Synced 5 W&B file(s), 0 media file(s), 4040 artifact file(s) and 1 other file(s)"
            ]
          },
          "metadata": {}
        },
        {
          "output_type": "display_data",
          "data": {
            "text/plain": [
              "<IPython.core.display.HTML object>"
            ],
            "text/html": [
              "Find logs at: <code>./wandb/run-20230224_080443-gzlvdhur/logs</code>"
            ]
          },
          "metadata": {}
        }
      ],
      "source": [
        "run.log_artifact(processed_data_at)\n",
        "run.finish()"
      ]
    },
    {
      "cell_type": "code",
      "execution_count": null,
      "id": "299d71f3",
      "metadata": {
        "id": "299d71f3"
      },
      "outputs": [],
      "source": []
    }
  ],
  "metadata": {
    "kernelspec": {
      "display_name": "Python 3.10.6 64-bit",
      "language": "python",
      "name": "python3"
    },
    "colab": {
      "provenance": [],
      "include_colab_link": true
    }
  },
  "nbformat": 4,
  "nbformat_minor": 5
}