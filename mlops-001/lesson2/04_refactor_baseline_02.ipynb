{
  "cells": [
    {
      "cell_type": "markdown",
      "metadata": {
        "id": "view-in-github",
        "colab_type": "text"
      },
      "source": [
        "<a href=\"https://colab.research.google.com/github/Nov05/wandb-edu/blob/main/mlops-001/lesson2/04_refactor_baseline_02.ipynb\" target=\"_parent\"><img src=\"https://colab.research.google.com/assets/colab-badge.svg\" alt=\"Open In Colab\"/></a>"
      ]
    },
    {
      "cell_type": "markdown",
      "source": [
        "# **Information**  \n",
        "notebook changed by nov05 on 2023-03-08   \n",
        "repo `wandb-edu`, file path `mlops-001/lesson2/04_refactor_baseline_02.ipynb`    "
      ],
      "metadata": {
        "id": "8YTjFUTdmHeI"
      },
      "id": "8YTjFUTdmHeI"
    },
    {
      "cell_type": "code",
      "source": [
        "!pip install wandb\n",
        "## Successfully installed GitPython-3.1.31 docker-pycreds-0.4.0 gitdb-4.0.10 pathtools-0.1.2 sentry-sdk-1.16.0 setproctitle-1.3.2 smmap-5.0.0 wandb-0.13.11"
      ],
      "metadata": {
        "id": "n4jiS6OrlnEX"
      },
      "id": "n4jiS6OrlnEX",
      "execution_count": null,
      "outputs": []
    },
    {
      "cell_type": "code",
      "source": [
        "## get local modules for this notebook\n",
        "!wget --no-check-certificate -O params.py -q https://raw.githubusercontent.com/Nov05/wandb-edu/main/mlops-001/lesson2/params.py\n",
        "!wget --no-check-certificate -O train.py -q https://raw.githubusercontent.com/Nov05/wandb-edu/main/mlops-001/lesson2/train.py\n",
        "!wget --no-check-certificate -O utils.py -q https://raw.githubusercontent.com/Nov05/wandb-edu/main/mlops-001/lesson2/utils.py  \n",
        "!wget --no-check-certificate -O sweep.yaml -q https://raw.githubusercontent.com/Nov05/wandb-edu/main/mlops-001/lesson2/sweep.yaml"
      ],
      "metadata": {
        "id": "66gfddEGmAch"
      },
      "id": "66gfddEGmAch",
      "execution_count": 2,
      "outputs": []
    },
    {
      "cell_type": "markdown",
      "metadata": {
        "id": "DRaOHg8ulj8u"
      },
      "source": [
        "<a href=\"https://colab.research.google.com/github/wandb/edu/blob/main/mlops-001/lesson2/04_refactor_baseline.ipynb\" target=\"_parent\"><img src=\"https://colab.research.google.com/assets/colab-badge.svg\" alt=\"Open In Colab\"/></a>\n",
        "<!--- @wandbcode{course-lesson2} -->"
      ],
      "id": "DRaOHg8ulj8u"
    },
    {
      "cell_type": "markdown",
      "id": "6cec1a21",
      "metadata": {
        "id": "6cec1a21"
      },
      "source": [
        "# Refactor of Baseline Model\n",
        "<!--- @wandbcode{course-lesson2} -->\n",
        "\n",
        "The same code as in the previous notebook, but refactored into a small functions. This will be useful for the hyperparameter tuning."
      ]
    },
    {
      "cell_type": "code",
      "execution_count": 3,
      "id": "29116dec",
      "metadata": {
        "id": "29116dec"
      },
      "outputs": [],
      "source": [
        "import wandb\n",
        "import pandas as pd\n",
        "import torchvision.models as tvmodels\n",
        "from fastai.vision.all import *\n",
        "from fastai.callback.wandb import WandbCallback\n",
        "\n",
        "import params\n",
        "from utils import get_predictions, create_iou_table, MIOU, BackgroundIOU, \\\n",
        "                  RoadIOU, TrafficLightIOU, TrafficSignIOU, PersonIOU, VehicleIOU, BicycleIOU"
      ]
    },
    {
      "cell_type": "code",
      "execution_count": 4,
      "id": "cff6b8ee",
      "metadata": {
        "id": "cff6b8ee"
      },
      "outputs": [],
      "source": [
        "train_config = SimpleNamespace(\n",
        "    framework=\"fastai\",\n",
        "    img_size=(180, 320),\n",
        "    batch_size=8,\n",
        "    augment=True, # use data augmentation\n",
        "    epochs=10, \n",
        "    lr=2e-3,\n",
        "    arch=\"resnet18\",\n",
        "    pretrained=True,  # whether to use pretrained encoder\n",
        "    seed=42,\n",
        "    log_preds=True,\n",
        ")"
      ]
    },
    {
      "cell_type": "code",
      "execution_count": 5,
      "id": "954c2bb4-4d69-4dc4-9653-26cbc13ba509",
      "metadata": {
        "id": "954c2bb4-4d69-4dc4-9653-26cbc13ba509"
      },
      "outputs": [],
      "source": [
        "def download_data():\n",
        "    processed_data_at = wandb.use_artifact(f'{params.PROCESSED_DATA_AT}:latest')\n",
        "    processed_dataset_dir = Path(processed_data_at.download())\n",
        "    return processed_dataset_dir"
      ]
    },
    {
      "cell_type": "code",
      "execution_count": 6,
      "id": "65ae3d60",
      "metadata": {
        "id": "65ae3d60"
      },
      "outputs": [],
      "source": [
        "def label_func(fname):\n",
        "    return (fname.parent.parent/\"labels\")/f\"{fname.stem}_mask.png\""
      ]
    },
    {
      "cell_type": "code",
      "execution_count": 7,
      "id": "0010b696-eb6a-402e-9d3e-98c20a7deb62",
      "metadata": {
        "id": "0010b696-eb6a-402e-9d3e-98c20a7deb62"
      },
      "outputs": [],
      "source": [
        "def get_df(processed_dataset_dir, is_test=False):\n",
        "    df = pd.read_csv(processed_dataset_dir / 'data_split.csv')\n",
        "    \n",
        "    if not is_test:\n",
        "        df = df[df.Stage != 'test'].reset_index(drop=True)\n",
        "        df['is_valid'] = df.Stage == 'valid'\n",
        "    else:\n",
        "        df = df[df.Stage == 'test'].reset_index(drop=True)\n",
        "        \n",
        "    \n",
        "    # assign paths\n",
        "    df[\"image_fname\"] = [processed_dataset_dir/f'images/{f}' for f in df.File_Name.values]\n",
        "    df[\"label_fname\"] = [label_func(f) for f in df.image_fname.values]\n",
        "    return df"
      ]
    },
    {
      "cell_type": "code",
      "execution_count": 8,
      "id": "4268334e",
      "metadata": {
        "id": "4268334e"
      },
      "outputs": [],
      "source": [
        "def get_data(df, bs=4, img_size=(180, 320), augment=True):\n",
        "    block = DataBlock(blocks=(ImageBlock, MaskBlock(codes=params.BDD_CLASSES)),\n",
        "                  get_x=ColReader(\"image_fname\"),\n",
        "                  get_y=ColReader(\"label_fname\"),\n",
        "                  splitter=ColSplitter(),\n",
        "                  item_tfms=Resize(img_size),\n",
        "                  batch_tfms=aug_transforms() if augment else None,\n",
        "                 )\n",
        "    return block.dataloaders(df, bs=bs)"
      ]
    },
    {
      "cell_type": "code",
      "execution_count": 9,
      "id": "387dc2d8",
      "metadata": {
        "id": "387dc2d8"
      },
      "outputs": [],
      "source": [
        "def log_predictions(learn):\n",
        "    \"Log a Table with model predictions\"\n",
        "    samples, outputs, predictions = get_predictions(learn)\n",
        "    table = create_iou_table(samples, outputs, predictions, params.BDD_CLASSES)\n",
        "    wandb.log({\"pred_table\":table})"
      ]
    },
    {
      "cell_type": "code",
      "execution_count": 10,
      "id": "d6ec120e",
      "metadata": {
        "id": "d6ec120e"
      },
      "outputs": [],
      "source": [
        "def log_final_metrics(learn):\n",
        "    scores = learn.validate()\n",
        "    metric_names = ['final_loss'] + [f'final_{x.name}' for x in learn.metrics]\n",
        "    final_results = {metric_names[i] : scores[i] for i in range(len(scores))}\n",
        "    for k,v in final_results.items(): \n",
        "        wandb.summary[k] = v"
      ]
    },
    {
      "cell_type": "code",
      "execution_count": 11,
      "id": "f4dd39ae-3b74-4c72-bb83-02e0ad68a96b",
      "metadata": {
        "id": "f4dd39ae-3b74-4c72-bb83-02e0ad68a96b"
      },
      "outputs": [],
      "source": [
        "def train(config):\n",
        "    set_seed(config.seed, reproducible=True)\n",
        "    run = wandb.init(project=params.WANDB_PROJECT, entity=params.ENTITY, job_type=\"training\", config=config)\n",
        "\n",
        "    config = wandb.config\n",
        "    \n",
        "    processed_dataset_dir = download_data()\n",
        "    df = get_df(processed_dataset_dir)\n",
        "    \n",
        "    dls = get_data(df, bs=config.batch_size, img_size=config.img_size, augment=config.augment)\n",
        "\n",
        "    metrics = [MIOU(), BackgroundIOU(), RoadIOU(), TrafficLightIOU(), \\\n",
        "               TrafficSignIOU(), PersonIOU(), VehicleIOU(), BicycleIOU()]\n",
        "\n",
        "    learn = unet_learner(dls, arch=getattr(tvmodels, config.arch), pretrained=config.pretrained, metrics=metrics)\n",
        "\n",
        "    callbacks = [\n",
        "        SaveModelCallback(monitor='miou'),\n",
        "        WandbCallback(log_preds=False, log_model=True)\n",
        "    ]\n",
        "\n",
        "    learn.fit_one_cycle(config.epochs, config.lr, cbs=callbacks)\n",
        "    \n",
        "    if config.log_preds:\n",
        "        log_predictions(learn)\n",
        "        \n",
        "    log_final_metrics(learn)\n",
        "\n",
        "    wandb.finish()"
      ]
    },
    {
      "cell_type": "markdown",
      "id": "77a8eaf3-a416-442d-b5c3-6e8a2bcf7b55",
      "metadata": {
        "id": "77a8eaf3-a416-442d-b5c3-6e8a2bcf7b55"
      },
      "source": [
        "## Run the training"
      ]
    },
    {
      "cell_type": "code",
      "execution_count": 12,
      "id": "24a789d6-ca7b-4709-9370-d36ae60d2c89",
      "metadata": {
        "colab": {
          "base_uri": "https://localhost:8080/",
          "height": 1000,
          "referenced_widgets": [
            "2f402fac32314cddb2243948a243ba33",
            "5114924e1dd442248a1a575892a285a0",
            "7fb8b79c32304208ae5eec50417d6a29",
            "2ef215fd146c44068c6f9f5d9aa763e8",
            "5a3d322fd6e4410984e3d6bf7713ad21",
            "f54e7e4d573f461192d15807e6fac798",
            "2cd92116d406407fa6c48333cb6c84e9",
            "bfb487218da94b9980f415a935b62898",
            "f0cf8047c02a4a4b81ad1f8068c6e58b",
            "47757c2ec95b4f5a804034a266be8a43",
            "54d97040c91f45a2bfbd3586879f68b7"
          ]
        },
        "id": "24a789d6-ca7b-4709-9370-d36ae60d2c89",
        "outputId": "5cb3d3f5-a41e-4fbf-dc4b-1886f40bdfc1"
      },
      "outputs": [
        {
          "output_type": "display_data",
          "data": {
            "text/plain": [
              "<IPython.core.display.Javascript object>"
            ],
            "application/javascript": [
              "\n",
              "        window._wandbApiKey = new Promise((resolve, reject) => {\n",
              "            function loadScript(url) {\n",
              "            return new Promise(function(resolve, reject) {\n",
              "                let newScript = document.createElement(\"script\");\n",
              "                newScript.onerror = reject;\n",
              "                newScript.onload = resolve;\n",
              "                document.body.appendChild(newScript);\n",
              "                newScript.src = url;\n",
              "            });\n",
              "            }\n",
              "            loadScript(\"https://cdn.jsdelivr.net/npm/postmate/build/postmate.min.js\").then(() => {\n",
              "            const iframe = document.createElement('iframe')\n",
              "            iframe.style.cssText = \"width:0;height:0;border:none\"\n",
              "            document.body.appendChild(iframe)\n",
              "            const handshake = new Postmate({\n",
              "                container: iframe,\n",
              "                url: 'https://wandb.ai/authorize'\n",
              "            });\n",
              "            const timeout = setTimeout(() => reject(\"Couldn't auto authenticate\"), 5000)\n",
              "            handshake.then(function(child) {\n",
              "                child.on('authorize', data => {\n",
              "                    clearTimeout(timeout)\n",
              "                    resolve(data)\n",
              "                });\n",
              "            });\n",
              "            })\n",
              "        });\n",
              "    "
            ]
          },
          "metadata": {}
        },
        {
          "output_type": "stream",
          "name": "stderr",
          "text": [
            "\u001b[34m\u001b[1mwandb\u001b[0m: Logging into wandb.ai. (Learn how to deploy a W&B server locally: https://wandb.me/wandb-server)\n",
            "\u001b[34m\u001b[1mwandb\u001b[0m: You can find your API key in your browser here: https://wandb.ai/authorize\n",
            "wandb: Paste an API key from your profile and hit enter, or press ctrl+c to quit:"
          ]
        },
        {
          "name": "stdout",
          "output_type": "stream",
          "text": [
            " ··········\n"
          ]
        },
        {
          "output_type": "stream",
          "name": "stderr",
          "text": [
            "\u001b[34m\u001b[1mwandb\u001b[0m: Appending key for api.wandb.ai to your netrc file: /root/.netrc\n"
          ]
        },
        {
          "output_type": "display_data",
          "data": {
            "text/plain": [
              "<IPython.core.display.HTML object>"
            ],
            "text/html": [
              "Tracking run with wandb version 0.13.11"
            ]
          },
          "metadata": {}
        },
        {
          "output_type": "display_data",
          "data": {
            "text/plain": [
              "<IPython.core.display.HTML object>"
            ],
            "text/html": [
              "Run data is saved locally in <code>/content/wandb/run-20230308_094250-zrv9v1lv</code>"
            ]
          },
          "metadata": {}
        },
        {
          "output_type": "display_data",
          "data": {
            "text/plain": [
              "<IPython.core.display.HTML object>"
            ],
            "text/html": [
              "Syncing run <strong><a href='https://wandb.ai/novemberfifth/mlops-course-001/runs/zrv9v1lv' target=\"_blank\">vivid-galaxy-12</a></strong> to <a href='https://wandb.ai/novemberfifth/mlops-course-001' target=\"_blank\">Weights & Biases</a> (<a href='https://wandb.me/run' target=\"_blank\">docs</a>)<br/>"
            ]
          },
          "metadata": {}
        },
        {
          "output_type": "display_data",
          "data": {
            "text/plain": [
              "<IPython.core.display.HTML object>"
            ],
            "text/html": [
              " View project at <a href='https://wandb.ai/novemberfifth/mlops-course-001' target=\"_blank\">https://wandb.ai/novemberfifth/mlops-course-001</a>"
            ]
          },
          "metadata": {}
        },
        {
          "output_type": "display_data",
          "data": {
            "text/plain": [
              "<IPython.core.display.HTML object>"
            ],
            "text/html": [
              " View run at <a href='https://wandb.ai/novemberfifth/mlops-course-001/runs/zrv9v1lv' target=\"_blank\">https://wandb.ai/novemberfifth/mlops-course-001/runs/zrv9v1lv</a>"
            ]
          },
          "metadata": {}
        },
        {
          "output_type": "stream",
          "name": "stderr",
          "text": [
            "\u001b[34m\u001b[1mwandb\u001b[0m: Downloading large artifact bdd_simple_1k_split:latest, 813.25MB. 4010 files... \n",
            "\u001b[34m\u001b[1mwandb\u001b[0m:   4010 of 4010 files downloaded.  \n",
            "Done. 0:1:14.1\n",
            "/usr/local/lib/python3.8/dist-packages/torchvision/models/_utils.py:208: UserWarning: The parameter 'pretrained' is deprecated since 0.13 and may be removed in the future, please use 'weights' instead.\n",
            "  warnings.warn(\n",
            "/usr/local/lib/python3.8/dist-packages/torchvision/models/_utils.py:223: UserWarning: Arguments other than a weight enum or `None` for 'weights' are deprecated since 0.13 and may be removed in the future. The current behavior is equivalent to passing `weights=ResNet18_Weights.IMAGENET1K_V1`. You can also use `weights=ResNet18_Weights.DEFAULT` to get the most up-to-date weights.\n",
            "  warnings.warn(msg)\n",
            "Downloading: \"https://download.pytorch.org/models/resnet18-f37072fd.pth\" to /root/.cache/torch/hub/checkpoints/resnet18-f37072fd.pth\n"
          ]
        },
        {
          "output_type": "display_data",
          "data": {
            "text/plain": [
              "  0%|          | 0.00/44.7M [00:00<?, ?B/s]"
            ],
            "application/vnd.jupyter.widget-view+json": {
              "version_major": 2,
              "version_minor": 0,
              "model_id": "2f402fac32314cddb2243948a243ba33"
            }
          },
          "metadata": {}
        },
        {
          "output_type": "display_data",
          "data": {
            "text/plain": [
              "<IPython.core.display.HTML object>"
            ],
            "text/html": [
              "\n",
              "<style>\n",
              "    /* Turns off some styling */\n",
              "    progress {\n",
              "        /* gets rid of default border in Firefox and Opera. */\n",
              "        border: none;\n",
              "        /* Needs to be in here for Safari polyfill so background images work as expected. */\n",
              "        background-size: auto;\n",
              "    }\n",
              "    progress:not([value]), progress:not([value])::-webkit-progress-bar {\n",
              "        background: repeating-linear-gradient(45deg, #7e7e7e, #7e7e7e 10px, #5c5c5c 10px, #5c5c5c 20px);\n",
              "    }\n",
              "    .progress-bar-interrupted, .progress-bar-interrupted::-webkit-progress-bar {\n",
              "        background: #F44336;\n",
              "    }\n",
              "</style>\n"
            ]
          },
          "metadata": {}
        },
        {
          "output_type": "display_data",
          "data": {
            "text/plain": [
              "<IPython.core.display.HTML object>"
            ],
            "text/html": [
              "<table border=\"1\" class=\"dataframe\">\n",
              "  <thead>\n",
              "    <tr style=\"text-align: left;\">\n",
              "      <th>epoch</th>\n",
              "      <th>train_loss</th>\n",
              "      <th>valid_loss</th>\n",
              "      <th>miou</th>\n",
              "      <th>background_iou</th>\n",
              "      <th>road_iou</th>\n",
              "      <th>traffic_light_iou</th>\n",
              "      <th>traffic_sign_iou</th>\n",
              "      <th>person_iou</th>\n",
              "      <th>vehicle_iou</th>\n",
              "      <th>bicycle_iou</th>\n",
              "      <th>time</th>\n",
              "    </tr>\n",
              "  </thead>\n",
              "  <tbody>\n",
              "    <tr>\n",
              "      <td>0</td>\n",
              "      <td>0.510675</td>\n",
              "      <td>0.393148</td>\n",
              "      <td>0.311786</td>\n",
              "      <td>0.866503</td>\n",
              "      <td>0.757810</td>\n",
              "      <td>0.000000</td>\n",
              "      <td>0.000000</td>\n",
              "      <td>0.000000</td>\n",
              "      <td>0.558189</td>\n",
              "      <td>0.000000</td>\n",
              "      <td>00:53</td>\n",
              "    </tr>\n",
              "    <tr>\n",
              "      <td>1</td>\n",
              "      <td>0.470888</td>\n",
              "      <td>0.326396</td>\n",
              "      <td>0.321701</td>\n",
              "      <td>0.866271</td>\n",
              "      <td>0.750293</td>\n",
              "      <td>0.000000</td>\n",
              "      <td>0.000000</td>\n",
              "      <td>0.000000</td>\n",
              "      <td>0.635345</td>\n",
              "      <td>0.000000</td>\n",
              "      <td>00:47</td>\n",
              "    </tr>\n",
              "    <tr>\n",
              "      <td>2</td>\n",
              "      <td>0.345418</td>\n",
              "      <td>0.279628</td>\n",
              "      <td>0.338277</td>\n",
              "      <td>0.891473</td>\n",
              "      <td>0.802441</td>\n",
              "      <td>0.000000</td>\n",
              "      <td>0.000000</td>\n",
              "      <td>0.000000</td>\n",
              "      <td>0.674027</td>\n",
              "      <td>0.000000</td>\n",
              "      <td>00:49</td>\n",
              "    </tr>\n",
              "    <tr>\n",
              "      <td>3</td>\n",
              "      <td>0.308644</td>\n",
              "      <td>0.274027</td>\n",
              "      <td>0.339582</td>\n",
              "      <td>0.893316</td>\n",
              "      <td>0.813681</td>\n",
              "      <td>0.000000</td>\n",
              "      <td>0.000000</td>\n",
              "      <td>0.000000</td>\n",
              "      <td>0.670079</td>\n",
              "      <td>0.000000</td>\n",
              "      <td>00:49</td>\n",
              "    </tr>\n",
              "    <tr>\n",
              "      <td>4</td>\n",
              "      <td>0.281367</td>\n",
              "      <td>0.252251</td>\n",
              "      <td>0.350514</td>\n",
              "      <td>0.911216</td>\n",
              "      <td>0.823929</td>\n",
              "      <td>0.000000</td>\n",
              "      <td>0.000000</td>\n",
              "      <td>0.000000</td>\n",
              "      <td>0.718453</td>\n",
              "      <td>0.000000</td>\n",
              "      <td>00:49</td>\n",
              "    </tr>\n",
              "    <tr>\n",
              "      <td>5</td>\n",
              "      <td>0.255564</td>\n",
              "      <td>0.244254</td>\n",
              "      <td>0.348859</td>\n",
              "      <td>0.910906</td>\n",
              "      <td>0.833642</td>\n",
              "      <td>0.000000</td>\n",
              "      <td>0.000000</td>\n",
              "      <td>0.000000</td>\n",
              "      <td>0.697462</td>\n",
              "      <td>0.000000</td>\n",
              "      <td>00:50</td>\n",
              "    </tr>\n",
              "    <tr>\n",
              "      <td>6</td>\n",
              "      <td>0.222353</td>\n",
              "      <td>0.248882</td>\n",
              "      <td>0.351626</td>\n",
              "      <td>0.912727</td>\n",
              "      <td>0.832361</td>\n",
              "      <td>0.000000</td>\n",
              "      <td>0.000000</td>\n",
              "      <td>0.000000</td>\n",
              "      <td>0.716295</td>\n",
              "      <td>0.000000</td>\n",
              "      <td>00:49</td>\n",
              "    </tr>\n",
              "    <tr>\n",
              "      <td>7</td>\n",
              "      <td>0.212638</td>\n",
              "      <td>0.231322</td>\n",
              "      <td>0.358661</td>\n",
              "      <td>0.917971</td>\n",
              "      <td>0.845455</td>\n",
              "      <td>0.010793</td>\n",
              "      <td>0.000000</td>\n",
              "      <td>0.000000</td>\n",
              "      <td>0.736410</td>\n",
              "      <td>0.000000</td>\n",
              "      <td>00:49</td>\n",
              "    </tr>\n",
              "    <tr>\n",
              "      <td>8</td>\n",
              "      <td>0.190942</td>\n",
              "      <td>0.231255</td>\n",
              "      <td>0.367880</td>\n",
              "      <td>0.920880</td>\n",
              "      <td>0.847675</td>\n",
              "      <td>0.050295</td>\n",
              "      <td>0.000000</td>\n",
              "      <td>0.000000</td>\n",
              "      <td>0.756307</td>\n",
              "      <td>0.000000</td>\n",
              "      <td>00:51</td>\n",
              "    </tr>\n",
              "    <tr>\n",
              "      <td>9</td>\n",
              "      <td>0.178929</td>\n",
              "      <td>0.223619</td>\n",
              "      <td>0.368604</td>\n",
              "      <td>0.922073</td>\n",
              "      <td>0.849399</td>\n",
              "      <td>0.048188</td>\n",
              "      <td>0.000202</td>\n",
              "      <td>0.000000</td>\n",
              "      <td>0.760365</td>\n",
              "      <td>0.000000</td>\n",
              "      <td>00:49</td>\n",
              "    </tr>\n",
              "  </tbody>\n",
              "</table>"
            ]
          },
          "metadata": {}
        },
        {
          "output_type": "stream",
          "name": "stdout",
          "text": [
            "Better model found at epoch 0 with miou value: 0.3117860126672006.\n",
            "Better model found at epoch 1 with miou value: 0.32170120228862836.\n",
            "Better model found at epoch 2 with miou value: 0.3382773627142222.\n",
            "Better model found at epoch 3 with miou value: 0.3395822171891104.\n",
            "Better model found at epoch 4 with miou value: 0.35051398934317995.\n",
            "Better model found at epoch 6 with miou value: 0.35162611143783545.\n",
            "Better model found at epoch 7 with miou value: 0.3586612387405435.\n",
            "Better model found at epoch 8 with miou value: 0.36787967706441255.\n",
            "Better model found at epoch 9 with miou value: 0.36860379280006417.\n"
          ]
        },
        {
          "output_type": "display_data",
          "data": {
            "text/plain": [
              "<IPython.core.display.HTML object>"
            ],
            "text/html": [
              "\n",
              "<style>\n",
              "    /* Turns off some styling */\n",
              "    progress {\n",
              "        /* gets rid of default border in Firefox and Opera. */\n",
              "        border: none;\n",
              "        /* Needs to be in here for Safari polyfill so background images work as expected. */\n",
              "        background-size: auto;\n",
              "    }\n",
              "    progress:not([value]), progress:not([value])::-webkit-progress-bar {\n",
              "        background: repeating-linear-gradient(45deg, #7e7e7e, #7e7e7e 10px, #5c5c5c 10px, #5c5c5c 20px);\n",
              "    }\n",
              "    .progress-bar-interrupted, .progress-bar-interrupted::-webkit-progress-bar {\n",
              "        background: #F44336;\n",
              "    }\n",
              "</style>\n"
            ]
          },
          "metadata": {}
        },
        {
          "output_type": "display_data",
          "data": {
            "text/plain": [
              "<IPython.core.display.HTML object>"
            ],
            "text/html": []
          },
          "metadata": {}
        },
        {
          "output_type": "display_data",
          "data": {
            "text/plain": [
              "<IPython.core.display.HTML object>"
            ],
            "text/html": [
              "\n",
              "<style>\n",
              "    /* Turns off some styling */\n",
              "    progress {\n",
              "        /* gets rid of default border in Firefox and Opera. */\n",
              "        border: none;\n",
              "        /* Needs to be in here for Safari polyfill so background images work as expected. */\n",
              "        background-size: auto;\n",
              "    }\n",
              "    progress:not([value]), progress:not([value])::-webkit-progress-bar {\n",
              "        background: repeating-linear-gradient(45deg, #7e7e7e, #7e7e7e 10px, #5c5c5c 10px, #5c5c5c 20px);\n",
              "    }\n",
              "    .progress-bar-interrupted, .progress-bar-interrupted::-webkit-progress-bar {\n",
              "        background: #F44336;\n",
              "    }\n",
              "</style>\n"
            ]
          },
          "metadata": {}
        },
        {
          "output_type": "display_data",
          "data": {
            "text/plain": [
              "<IPython.core.display.HTML object>"
            ],
            "text/html": [
              "\n",
              "    <div>\n",
              "      <progress value='100' class='' max='100' style='width:300px; height:20px; vertical-align: middle;'></progress>\n",
              "      100.00% [100/100 00:11&lt;00:00]\n",
              "    </div>\n",
              "    "
            ]
          },
          "metadata": {}
        },
        {
          "output_type": "display_data",
          "data": {
            "text/plain": [
              "<IPython.core.display.HTML object>"
            ],
            "text/html": [
              "\n",
              "<style>\n",
              "    /* Turns off some styling */\n",
              "    progress {\n",
              "        /* gets rid of default border in Firefox and Opera. */\n",
              "        border: none;\n",
              "        /* Needs to be in here for Safari polyfill so background images work as expected. */\n",
              "        background-size: auto;\n",
              "    }\n",
              "    progress:not([value]), progress:not([value])::-webkit-progress-bar {\n",
              "        background: repeating-linear-gradient(45deg, #7e7e7e, #7e7e7e 10px, #5c5c5c 10px, #5c5c5c 20px);\n",
              "    }\n",
              "    .progress-bar-interrupted, .progress-bar-interrupted::-webkit-progress-bar {\n",
              "        background: #F44336;\n",
              "    }\n",
              "</style>\n"
            ]
          },
          "metadata": {}
        },
        {
          "output_type": "display_data",
          "data": {
            "text/plain": [
              "<IPython.core.display.HTML object>"
            ],
            "text/html": []
          },
          "metadata": {}
        },
        {
          "output_type": "display_data",
          "data": {
            "text/plain": [
              "<IPython.core.display.HTML object>"
            ],
            "text/html": [
              "Waiting for W&B process to finish... <strong style=\"color:green\">(success).</strong>"
            ]
          },
          "metadata": {}
        },
        {
          "output_type": "display_data",
          "data": {
            "text/plain": [
              "<IPython.core.display.HTML object>"
            ],
            "text/html": [
              "<style>\n",
              "    table.wandb td:nth-child(1) { padding: 0 10px; text-align: left ; width: auto;} td:nth-child(2) {text-align: left ; width: 100%}\n",
              "    .wandb-row { display: flex; flex-direction: row; flex-wrap: wrap; justify-content: flex-start; width: 100% }\n",
              "    .wandb-col { display: flex; flex-direction: column; flex-basis: 100%; flex: 1; padding: 10px; }\n",
              "    </style>\n",
              "<div class=\"wandb-row\"><div class=\"wandb-col\"><h3>Run history:</h3><br/><table class=\"wandb\"><tr><td>background_iou</td><td>▁▁▄▄▇▇▇▇██</td></tr><tr><td>bicycle_iou</td><td>▁▁▁▁▁▁▁▁▁▁</td></tr><tr><td>epoch</td><td>▁▁▁▂▂▂▂▂▂▃▃▃▃▃▄▄▄▄▄▄▅▅▅▅▅▅▆▆▆▆▆▇▇▇▇▇▇███</td></tr><tr><td>eps_0</td><td>▁▁▁▁▁▁▁▁▁▁▁▁▁▁▁▁▁▁▁▁▁▁▁▁▁▁▁▁▁▁▁▁▁▁▁▁▁▁▁▁</td></tr><tr><td>eps_1</td><td>▁▁▁▁▁▁▁▁▁▁▁▁▁▁▁▁▁▁▁▁▁▁▁▁▁▁▁▁▁▁▁▁▁▁▁▁▁▁▁▁</td></tr><tr><td>eps_2</td><td>▁▁▁▁▁▁▁▁▁▁▁▁▁▁▁▁▁▁▁▁▁▁▁▁▁▁▁▁▁▁▁▁▁▁▁▁▁▁▁▁</td></tr><tr><td>lr_0</td><td>▁▂▂▃▄▅▆▇███████▇▇▇▇▆▆▆▅▅▅▄▄▄▃▃▃▂▂▂▁▁▁▁▁▁</td></tr><tr><td>lr_1</td><td>▁▂▂▃▄▅▆▇███████▇▇▇▇▆▆▆▅▅▅▄▄▄▃▃▃▂▂▂▁▁▁▁▁▁</td></tr><tr><td>lr_2</td><td>▁▂▂▃▄▅▆▇███████▇▇▇▇▆▆▆▅▅▅▄▄▄▃▃▃▂▂▂▁▁▁▁▁▁</td></tr><tr><td>miou</td><td>▁▂▄▄▆▆▆▇██</td></tr><tr><td>mom_0</td><td>██▇▆▅▄▃▂▁▁▁▁▁▁▁▂▂▂▂▃▃▃▄▄▄▅▅▅▆▆▆▇▇▇██████</td></tr><tr><td>mom_1</td><td>██▇▆▅▄▃▂▁▁▁▁▁▁▁▂▂▂▂▃▃▃▄▄▄▅▅▅▆▆▆▇▇▇██████</td></tr><tr><td>mom_2</td><td>██▇▆▅▄▃▂▁▁▁▁▁▁▁▂▂▂▂▃▃▃▄▄▄▅▅▅▆▆▆▇▇▇██████</td></tr><tr><td>person_iou</td><td>▁▁▁▁▁▁▁▁▁▁</td></tr><tr><td>raw_loss</td><td>█▄▅▄▃▅▆▄▂▂▃▄▂▄▄▄▄▃▃▃▂▁▂▃▂▃▁▂▂▂▁▄▁▁▁▁▂▂▂▂</td></tr><tr><td>road_iou</td><td>▂▁▅▅▆▇▇███</td></tr><tr><td>sqr_mom_0</td><td>▁▁▁▁▁▁▁▁▁▁▁▁▁▁▁▁▁▁▁▁▁▁▁▁▁▁▁▁▁▁▁▁▁▁▁▁▁▁▁▁</td></tr><tr><td>sqr_mom_1</td><td>▁▁▁▁▁▁▁▁▁▁▁▁▁▁▁▁▁▁▁▁▁▁▁▁▁▁▁▁▁▁▁▁▁▁▁▁▁▁▁▁</td></tr><tr><td>sqr_mom_2</td><td>▁▁▁▁▁▁▁▁▁▁▁▁▁▁▁▁▁▁▁▁▁▁▁▁▁▁▁▁▁▁▁▁▁▁▁▁▁▁▁▁</td></tr><tr><td>traffic_light_iou</td><td>▁▁▁▁▁▁▁▃██</td></tr><tr><td>traffic_sign_iou</td><td>▁▁▁▁▁▁▁▁▁█</td></tr><tr><td>train_loss</td><td>█▅▄▃▃▃▃▃▃▂▂▂▂▂▂▂▂▂▂▂▂▁▁▁▁▁▁▁▁▁▁▁▁▁▁▁▁▁▁▁</td></tr><tr><td>train_samples_per_sec</td><td>▇▅██▇▅▅▇▄▆▆▆▆▅▆▃▄▅▂▄▂▅▄▅▅▄▅▁▅▅▁▅▃▄▄▅▄▄▄▅</td></tr><tr><td>valid_loss</td><td>█▅▃▃▂▂▂▁▁▁</td></tr><tr><td>vehicle_iou</td><td>▁▄▅▅▇▆▆▇██</td></tr><tr><td>wd_0</td><td>▁▁▁▁▁▁▁▁▁▁▁▁▁▁▁▁▁▁▁▁▁▁▁▁▁▁▁▁▁▁▁▁▁▁▁▁▁▁▁▁</td></tr><tr><td>wd_1</td><td>▁▁▁▁▁▁▁▁▁▁▁▁▁▁▁▁▁▁▁▁▁▁▁▁▁▁▁▁▁▁▁▁▁▁▁▁▁▁▁▁</td></tr><tr><td>wd_2</td><td>▁▁▁▁▁▁▁▁▁▁▁▁▁▁▁▁▁▁▁▁▁▁▁▁▁▁▁▁▁▁▁▁▁▁▁▁▁▁▁▁</td></tr></table><br/></div><div class=\"wandb-col\"><h3>Run summary:</h3><br/><table class=\"wandb\"><tr><td>background_iou</td><td>0.92207</td></tr><tr><td>bicycle_iou</td><td>0.0</td></tr><tr><td>epoch</td><td>10</td></tr><tr><td>eps_0</td><td>1e-05</td></tr><tr><td>eps_1</td><td>1e-05</td></tr><tr><td>eps_2</td><td>1e-05</td></tr><tr><td>final_background_iou</td><td>0.92207</td></tr><tr><td>final_bicycle_iou</td><td>0.0</td></tr><tr><td>final_loss</td><td>0.22362</td></tr><tr><td>final_miou</td><td>0.3686</td></tr><tr><td>final_person_iou</td><td>0.0</td></tr><tr><td>final_road_iou</td><td>0.8494</td></tr><tr><td>final_traffic_light_iou</td><td>0.04819</td></tr><tr><td>final_traffic_sign_iou</td><td>0.0002</td></tr><tr><td>final_vehicle_iou</td><td>0.76036</td></tr><tr><td>lr_0</td><td>0.0</td></tr><tr><td>lr_1</td><td>0.0</td></tr><tr><td>lr_2</td><td>0.0</td></tr><tr><td>miou</td><td>0.3686</td></tr><tr><td>mom_0</td><td>0.95</td></tr><tr><td>mom_1</td><td>0.95</td></tr><tr><td>mom_2</td><td>0.95</td></tr><tr><td>person_iou</td><td>0.0</td></tr><tr><td>raw_loss</td><td>0.13677</td></tr><tr><td>road_iou</td><td>0.8494</td></tr><tr><td>sqr_mom_0</td><td>0.99</td></tr><tr><td>sqr_mom_1</td><td>0.99</td></tr><tr><td>sqr_mom_2</td><td>0.99</td></tr><tr><td>traffic_light_iou</td><td>0.04819</td></tr><tr><td>traffic_sign_iou</td><td>0.0002</td></tr><tr><td>train_loss</td><td>0.17893</td></tr><tr><td>train_samples_per_sec</td><td>19.94166</td></tr><tr><td>valid_loss</td><td>0.22362</td></tr><tr><td>vehicle_iou</td><td>0.76036</td></tr><tr><td>wd_0</td><td>0.01</td></tr><tr><td>wd_1</td><td>0.01</td></tr><tr><td>wd_2</td><td>0.01</td></tr></table><br/></div></div>"
            ]
          },
          "metadata": {}
        },
        {
          "output_type": "display_data",
          "data": {
            "text/plain": [
              "<IPython.core.display.HTML object>"
            ],
            "text/html": [
              " View run <strong style=\"color:#cdcd00\">vivid-galaxy-12</strong> at: <a href='https://wandb.ai/novemberfifth/mlops-course-001/runs/zrv9v1lv' target=\"_blank\">https://wandb.ai/novemberfifth/mlops-course-001/runs/zrv9v1lv</a><br/>Synced 5 W&B file(s), 1 media file(s), 305 artifact file(s) and 1 other file(s)"
            ]
          },
          "metadata": {}
        },
        {
          "output_type": "display_data",
          "data": {
            "text/plain": [
              "<IPython.core.display.HTML object>"
            ],
            "text/html": [
              "Find logs at: <code>./wandb/run-20230308_094250-zrv9v1lv/logs</code>"
            ]
          },
          "metadata": {}
        }
      ],
      "source": [
        "train(train_config)"
      ]
    }
  ],
  "metadata": {
    "kernelspec": {
      "display_name": "Python 3.10.6 64-bit",
      "language": "python",
      "name": "python3"
    },
    "colab": {
      "provenance": [],
      "include_colab_link": true
    },
    "accelerator": "GPU",
    "gpuClass": "standard",
    "widgets": {
      "application/vnd.jupyter.widget-state+json": {
        "2f402fac32314cddb2243948a243ba33": {
          "model_module": "@jupyter-widgets/controls",
          "model_name": "HBoxModel",
          "model_module_version": "1.5.0",
          "state": {
            "_dom_classes": [],
            "_model_module": "@jupyter-widgets/controls",
            "_model_module_version": "1.5.0",
            "_model_name": "HBoxModel",
            "_view_count": null,
            "_view_module": "@jupyter-widgets/controls",
            "_view_module_version": "1.5.0",
            "_view_name": "HBoxView",
            "box_style": "",
            "children": [
              "IPY_MODEL_5114924e1dd442248a1a575892a285a0",
              "IPY_MODEL_7fb8b79c32304208ae5eec50417d6a29",
              "IPY_MODEL_2ef215fd146c44068c6f9f5d9aa763e8"
            ],
            "layout": "IPY_MODEL_5a3d322fd6e4410984e3d6bf7713ad21"
          }
        },
        "5114924e1dd442248a1a575892a285a0": {
          "model_module": "@jupyter-widgets/controls",
          "model_name": "HTMLModel",
          "model_module_version": "1.5.0",
          "state": {
            "_dom_classes": [],
            "_model_module": "@jupyter-widgets/controls",
            "_model_module_version": "1.5.0",
            "_model_name": "HTMLModel",
            "_view_count": null,
            "_view_module": "@jupyter-widgets/controls",
            "_view_module_version": "1.5.0",
            "_view_name": "HTMLView",
            "description": "",
            "description_tooltip": null,
            "layout": "IPY_MODEL_f54e7e4d573f461192d15807e6fac798",
            "placeholder": "​",
            "style": "IPY_MODEL_2cd92116d406407fa6c48333cb6c84e9",
            "value": "100%"
          }
        },
        "7fb8b79c32304208ae5eec50417d6a29": {
          "model_module": "@jupyter-widgets/controls",
          "model_name": "FloatProgressModel",
          "model_module_version": "1.5.0",
          "state": {
            "_dom_classes": [],
            "_model_module": "@jupyter-widgets/controls",
            "_model_module_version": "1.5.0",
            "_model_name": "FloatProgressModel",
            "_view_count": null,
            "_view_module": "@jupyter-widgets/controls",
            "_view_module_version": "1.5.0",
            "_view_name": "ProgressView",
            "bar_style": "success",
            "description": "",
            "description_tooltip": null,
            "layout": "IPY_MODEL_bfb487218da94b9980f415a935b62898",
            "max": 46830571,
            "min": 0,
            "orientation": "horizontal",
            "style": "IPY_MODEL_f0cf8047c02a4a4b81ad1f8068c6e58b",
            "value": 46830571
          }
        },
        "2ef215fd146c44068c6f9f5d9aa763e8": {
          "model_module": "@jupyter-widgets/controls",
          "model_name": "HTMLModel",
          "model_module_version": "1.5.0",
          "state": {
            "_dom_classes": [],
            "_model_module": "@jupyter-widgets/controls",
            "_model_module_version": "1.5.0",
            "_model_name": "HTMLModel",
            "_view_count": null,
            "_view_module": "@jupyter-widgets/controls",
            "_view_module_version": "1.5.0",
            "_view_name": "HTMLView",
            "description": "",
            "description_tooltip": null,
            "layout": "IPY_MODEL_47757c2ec95b4f5a804034a266be8a43",
            "placeholder": "​",
            "style": "IPY_MODEL_54d97040c91f45a2bfbd3586879f68b7",
            "value": " 44.7M/44.7M [00:00&lt;00:00, 240MB/s]"
          }
        },
        "5a3d322fd6e4410984e3d6bf7713ad21": {
          "model_module": "@jupyter-widgets/base",
          "model_name": "LayoutModel",
          "model_module_version": "1.2.0",
          "state": {
            "_model_module": "@jupyter-widgets/base",
            "_model_module_version": "1.2.0",
            "_model_name": "LayoutModel",
            "_view_count": null,
            "_view_module": "@jupyter-widgets/base",
            "_view_module_version": "1.2.0",
            "_view_name": "LayoutView",
            "align_content": null,
            "align_items": null,
            "align_self": null,
            "border": null,
            "bottom": null,
            "display": null,
            "flex": null,
            "flex_flow": null,
            "grid_area": null,
            "grid_auto_columns": null,
            "grid_auto_flow": null,
            "grid_auto_rows": null,
            "grid_column": null,
            "grid_gap": null,
            "grid_row": null,
            "grid_template_areas": null,
            "grid_template_columns": null,
            "grid_template_rows": null,
            "height": null,
            "justify_content": null,
            "justify_items": null,
            "left": null,
            "margin": null,
            "max_height": null,
            "max_width": null,
            "min_height": null,
            "min_width": null,
            "object_fit": null,
            "object_position": null,
            "order": null,
            "overflow": null,
            "overflow_x": null,
            "overflow_y": null,
            "padding": null,
            "right": null,
            "top": null,
            "visibility": null,
            "width": null
          }
        },
        "f54e7e4d573f461192d15807e6fac798": {
          "model_module": "@jupyter-widgets/base",
          "model_name": "LayoutModel",
          "model_module_version": "1.2.0",
          "state": {
            "_model_module": "@jupyter-widgets/base",
            "_model_module_version": "1.2.0",
            "_model_name": "LayoutModel",
            "_view_count": null,
            "_view_module": "@jupyter-widgets/base",
            "_view_module_version": "1.2.0",
            "_view_name": "LayoutView",
            "align_content": null,
            "align_items": null,
            "align_self": null,
            "border": null,
            "bottom": null,
            "display": null,
            "flex": null,
            "flex_flow": null,
            "grid_area": null,
            "grid_auto_columns": null,
            "grid_auto_flow": null,
            "grid_auto_rows": null,
            "grid_column": null,
            "grid_gap": null,
            "grid_row": null,
            "grid_template_areas": null,
            "grid_template_columns": null,
            "grid_template_rows": null,
            "height": null,
            "justify_content": null,
            "justify_items": null,
            "left": null,
            "margin": null,
            "max_height": null,
            "max_width": null,
            "min_height": null,
            "min_width": null,
            "object_fit": null,
            "object_position": null,
            "order": null,
            "overflow": null,
            "overflow_x": null,
            "overflow_y": null,
            "padding": null,
            "right": null,
            "top": null,
            "visibility": null,
            "width": null
          }
        },
        "2cd92116d406407fa6c48333cb6c84e9": {
          "model_module": "@jupyter-widgets/controls",
          "model_name": "DescriptionStyleModel",
          "model_module_version": "1.5.0",
          "state": {
            "_model_module": "@jupyter-widgets/controls",
            "_model_module_version": "1.5.0",
            "_model_name": "DescriptionStyleModel",
            "_view_count": null,
            "_view_module": "@jupyter-widgets/base",
            "_view_module_version": "1.2.0",
            "_view_name": "StyleView",
            "description_width": ""
          }
        },
        "bfb487218da94b9980f415a935b62898": {
          "model_module": "@jupyter-widgets/base",
          "model_name": "LayoutModel",
          "model_module_version": "1.2.0",
          "state": {
            "_model_module": "@jupyter-widgets/base",
            "_model_module_version": "1.2.0",
            "_model_name": "LayoutModel",
            "_view_count": null,
            "_view_module": "@jupyter-widgets/base",
            "_view_module_version": "1.2.0",
            "_view_name": "LayoutView",
            "align_content": null,
            "align_items": null,
            "align_self": null,
            "border": null,
            "bottom": null,
            "display": null,
            "flex": null,
            "flex_flow": null,
            "grid_area": null,
            "grid_auto_columns": null,
            "grid_auto_flow": null,
            "grid_auto_rows": null,
            "grid_column": null,
            "grid_gap": null,
            "grid_row": null,
            "grid_template_areas": null,
            "grid_template_columns": null,
            "grid_template_rows": null,
            "height": null,
            "justify_content": null,
            "justify_items": null,
            "left": null,
            "margin": null,
            "max_height": null,
            "max_width": null,
            "min_height": null,
            "min_width": null,
            "object_fit": null,
            "object_position": null,
            "order": null,
            "overflow": null,
            "overflow_x": null,
            "overflow_y": null,
            "padding": null,
            "right": null,
            "top": null,
            "visibility": null,
            "width": null
          }
        },
        "f0cf8047c02a4a4b81ad1f8068c6e58b": {
          "model_module": "@jupyter-widgets/controls",
          "model_name": "ProgressStyleModel",
          "model_module_version": "1.5.0",
          "state": {
            "_model_module": "@jupyter-widgets/controls",
            "_model_module_version": "1.5.0",
            "_model_name": "ProgressStyleModel",
            "_view_count": null,
            "_view_module": "@jupyter-widgets/base",
            "_view_module_version": "1.2.0",
            "_view_name": "StyleView",
            "bar_color": null,
            "description_width": ""
          }
        },
        "47757c2ec95b4f5a804034a266be8a43": {
          "model_module": "@jupyter-widgets/base",
          "model_name": "LayoutModel",
          "model_module_version": "1.2.0",
          "state": {
            "_model_module": "@jupyter-widgets/base",
            "_model_module_version": "1.2.0",
            "_model_name": "LayoutModel",
            "_view_count": null,
            "_view_module": "@jupyter-widgets/base",
            "_view_module_version": "1.2.0",
            "_view_name": "LayoutView",
            "align_content": null,
            "align_items": null,
            "align_self": null,
            "border": null,
            "bottom": null,
            "display": null,
            "flex": null,
            "flex_flow": null,
            "grid_area": null,
            "grid_auto_columns": null,
            "grid_auto_flow": null,
            "grid_auto_rows": null,
            "grid_column": null,
            "grid_gap": null,
            "grid_row": null,
            "grid_template_areas": null,
            "grid_template_columns": null,
            "grid_template_rows": null,
            "height": null,
            "justify_content": null,
            "justify_items": null,
            "left": null,
            "margin": null,
            "max_height": null,
            "max_width": null,
            "min_height": null,
            "min_width": null,
            "object_fit": null,
            "object_position": null,
            "order": null,
            "overflow": null,
            "overflow_x": null,
            "overflow_y": null,
            "padding": null,
            "right": null,
            "top": null,
            "visibility": null,
            "width": null
          }
        },
        "54d97040c91f45a2bfbd3586879f68b7": {
          "model_module": "@jupyter-widgets/controls",
          "model_name": "DescriptionStyleModel",
          "model_module_version": "1.5.0",
          "state": {
            "_model_module": "@jupyter-widgets/controls",
            "_model_module_version": "1.5.0",
            "_model_name": "DescriptionStyleModel",
            "_view_count": null,
            "_view_module": "@jupyter-widgets/base",
            "_view_module_version": "1.2.0",
            "_view_name": "StyleView",
            "description_width": ""
          }
        }
      }
    }
  },
  "nbformat": 4,
  "nbformat_minor": 5
}