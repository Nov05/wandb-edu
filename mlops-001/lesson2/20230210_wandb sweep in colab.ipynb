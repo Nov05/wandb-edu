{
  "nbformat": 4,
  "nbformat_minor": 0,
  "metadata": {
    "colab": {
      "provenance": [],
      "authorship_tag": "ABX9TyOufMPgmHm5dHjo3ORsjNgm",
      "include_colab_link": true
    },
    "kernelspec": {
      "name": "python3",
      "display_name": "Python 3"
    },
    "language_info": {
      "name": "python"
    },
    "accelerator": "GPU",
    "gpuClass": "standard"
  },
  "cells": [
    {
      "cell_type": "markdown",
      "metadata": {
        "id": "view-in-github",
        "colab_type": "text"
      },
      "source": [
        "<a href=\"https://colab.research.google.com/github/Nov05/wandb-edu/blob/main/mlops-001/lesson2/20230210_wandb%20sweep%20in%20colab.ipynb\" target=\"_parent\"><img src=\"https://colab.research.google.com/assets/colab-badge.svg\" alt=\"Open In Colab\"/></a>"
      ]
    },
    {
      "cell_type": "markdown",
      "source": [
        "*notebook created by nov05 on 2023-03-10*  \n",
        "repo `wandb-edu`, file path `mlops-001/lesson2/20230210_wandb sweep in colab.ipynb`  "
      ],
      "metadata": {
        "id": "bHuMIFNZL6Tt"
      }
    },
    {
      "cell_type": "code",
      "execution_count": null,
      "metadata": {
        "id": "eD0UgaLDGA_H"
      },
      "outputs": [],
      "source": [
        "!pip install wandb"
      ]
    },
    {
      "cell_type": "code",
      "source": [
        "## python and wandb versions\n",
        "import sys\n",
        "import wandb\n",
        "print(f'python version: {sys.version}')\n",
        "print(f'wandb version: {wandb.__version__}')"
      ],
      "metadata": {
        "colab": {
          "base_uri": "https://localhost:8080/"
        },
        "id": "RHbVwzzDGPHG",
        "outputId": "5f88a396-ae79-40c3-b88c-6d5ab90c9fdc"
      },
      "execution_count": null,
      "outputs": [
        {
          "output_type": "stream",
          "name": "stdout",
          "text": [
            "python version: 3.9.16 (main, Dec  7 2022, 01:11:51) \n",
            "[GCC 9.4.0]\n",
            "wandb version: 0.13.11\n"
          ]
        }
      ]
    },
    {
      "cell_type": "code",
      "source": [
        "## gpu information\n",
        "gpu_info = !nvidia-smi\n",
        "gpu_info = '\\n'.join(gpu_info)\n",
        "if gpu_info.find('failed') >= 0:\n",
        "  print('Not connected to a GPU')\n",
        "else:\n",
        "  print(gpu_info)"
      ],
      "metadata": {
        "colab": {
          "base_uri": "https://localhost:8080/"
        },
        "id": "4QEDEH5KLRjP",
        "outputId": "d9f610aa-266a-4bdf-979e-582ed16dec89"
      },
      "execution_count": null,
      "outputs": [
        {
          "output_type": "stream",
          "name": "stdout",
          "text": [
            "Fri Mar 10 20:19:45 2023       \n",
            "+-----------------------------------------------------------------------------+\n",
            "| NVIDIA-SMI 525.85.12    Driver Version: 525.85.12    CUDA Version: 12.0     |\n",
            "|-------------------------------+----------------------+----------------------+\n",
            "| GPU  Name        Persistence-M| Bus-Id        Disp.A | Volatile Uncorr. ECC |\n",
            "| Fan  Temp  Perf  Pwr:Usage/Cap|         Memory-Usage | GPU-Util  Compute M. |\n",
            "|                               |                      |               MIG M. |\n",
            "|===============================+======================+======================|\n",
            "|   0  Tesla T4            Off  | 00000000:00:04.0 Off |                    0 |\n",
            "| N/A   42C    P0    26W /  70W |      0MiB / 15360MiB |      0%      Default |\n",
            "|                               |                      |                  N/A |\n",
            "+-------------------------------+----------------------+----------------------+\n",
            "                                                                               \n",
            "+-----------------------------------------------------------------------------+\n",
            "| Processes:                                                                  |\n",
            "|  GPU   GI   CI        PID   Type   Process name                  GPU Memory |\n",
            "|        ID   ID                                                   Usage      |\n",
            "|=============================================================================|\n",
            "|  No running processes found                                                 |\n",
            "+-----------------------------------------------------------------------------+\n"
          ]
        }
      ]
    },
    {
      "cell_type": "code",
      "source": [
        "## get local modules for this notebook\n",
        "## you would need modify configurations in params.py and sweep.yaml for your own wandb account\n",
        "!wget --no-check-certificate -O params.py -q https://raw.githubusercontent.com/Nov05/wandb-edu/main/mlops-001/lesson2/params.py\n",
        "!wget --no-check-certificate -O train.py -q https://raw.githubusercontent.com/Nov05/wandb-edu/main/mlops-001/lesson2/train.py\n",
        "!wget --no-check-certificate -O utils.py -q https://raw.githubusercontent.com/Nov05/wandb-edu/main/mlops-001/lesson2/utils.py  \n",
        "!wget --no-check-certificate -O sweep.yaml -q https://raw.githubusercontent.com/Nov05/wandb-edu/main/mlops-001/lesson2/sweep.yaml"
      ],
      "metadata": {
        "id": "aacNSSmtGGQs"
      },
      "execution_count": null,
      "outputs": []
    },
    {
      "cell_type": "code",
      "source": [
        "## single run without sweep\n",
        "!python train.py --batch_size 16"
      ],
      "metadata": {
        "id": "uoNec5UmLzd6"
      },
      "execution_count": null,
      "outputs": []
    },
    {
      "cell_type": "markdown",
      "source": [
        "```\n",
        "Traceback (most recent call last):\n",
        "  File \"/content/train.py\", line 127, in <module>\n",
        "    train(default_config)\n",
        "  File \"/content/train.py\", line 118, in train\n",
        "    learn.fit_one_cycle(config.epochs, config.lr, cbs=cbs)\n",
        "  File \"/usr/local/lib/python3.9/dist-packages/fastai/callback/schedule.py\", line 119, in fit_one_cycle\n",
        "    self.fit(n_epoch, cbs=ParamScheduler(scheds)+L(cbs), reset_opt=reset_opt, wd=wd, start_epoch=start_epoch)\n",
        "...\n",
        "AttributeError: Exception occured in `ProgressCallback` when calling event `before_train`:\n",
        "\t'NoneType' object has no attribute 'update'\n",
        "```"
      ],
      "metadata": {
        "id": "0T0FwEACR3tQ"
      }
    },
    {
      "cell_type": "code",
      "source": [
        "## create wandb sweep\n",
        "!wandb sweep sweep.yaml"
      ],
      "metadata": {
        "colab": {
          "base_uri": "https://localhost:8080/"
        },
        "id": "W9YdozEOGHKO",
        "outputId": "4af057ba-4d53-4b56-c4a5-c45ee5b78fa0"
      },
      "execution_count": null,
      "outputs": [
        {
          "output_type": "stream",
          "name": "stdout",
          "text": [
            "\u001b[34m\u001b[1mwandb\u001b[0m: Creating sweep from: sweep.yaml\n",
            "\u001b[34m\u001b[1mwandb\u001b[0m: Created sweep with ID: \u001b[33mshvvdznv\u001b[0m\n",
            "\u001b[34m\u001b[1mwandb\u001b[0m: View sweep at: \u001b[34m\u001b[4mhttps://wandb.ai/novemberfifth/mlops-course-001/sweeps/shvvdznv\u001b[0m\n",
            "\u001b[34m\u001b[1mwandb\u001b[0m: Run sweep agent with: \u001b[33mwandb agent novemberfifth/mlops-course-001/shvvdznv\u001b[0m\n"
          ]
        }
      ]
    },
    {
      "cell_type": "code",
      "source": [
        "## start training, limit to 50 runs\n",
        "!wandb agent novemberfifth/mlops-course-001/shvvdznv --count 50"
      ],
      "metadata": {
        "colab": {
          "base_uri": "https://localhost:8080/"
        },
        "id": "6UvDZ3arKKzg",
        "outputId": "e950af59-a4c2-4e6e-a209-e220f3711b4b"
      },
      "execution_count": null,
      "outputs": [
        {
          "output_type": "stream",
          "name": "stdout",
          "text": [
            "\u001b[34m\u001b[1mwandb\u001b[0m: Starting wandb agent 🕵️\n",
            "\u001b[34m\u001b[1mwandb\u001b[0m: \u001b[32m\u001b[41mERROR\u001b[0m Error while calling W&B API: Sweep novemberfifth/mlops-course-001/shvvdznv is not running (<Response [400]>)\n",
            "\u001b[34m\u001b[1mwandb\u001b[0m: \u001b[32m\u001b[41mERROR\u001b[0m Find detailed error logs at: /content/wandb/debug-cli.root.log\n",
            "Error: \u001b[31mSweep novemberfifth/mlops-course-001/shvvdznv is not running\u001b[0m\n"
          ]
        }
      ]
    }
  ]
}