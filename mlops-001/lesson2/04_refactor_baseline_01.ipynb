{
  "cells": [
    {
      "cell_type": "markdown",
      "metadata": {
        "id": "view-in-github",
        "colab_type": "text"
      },
      "source": [
        "<a href=\"https://colab.research.google.com/github/Nov05/wandb-edu/blob/main/mlops-001/lesson2/04_refactor_baseline_01.ipynb\" target=\"_parent\"><img src=\"https://colab.research.google.com/assets/colab-badge.svg\" alt=\"Open In Colab\"/></a>"
      ]
    },
    {
      "cell_type": "markdown",
      "metadata": {
        "id": "_my5ccPQqY_O"
      },
      "source": [
        "# **Information**  \n",
        "notebook changed by nov05 on 2023-02-24  \n",
        "repo `wandb-edu`, file path `mlops-001/lesson2/04_refactor_baseline_01.ipynb`    \n",
        "\n",
        "* \"Installing Conda in Google Colab - Tips Tricks 38\", [video](https://www.youtube.com/watch?v=v4qskw8EHXQ), [notebooke](https://nbviewer.org/github/bnsreenu/python_for_microscopists/blob/05bf7ea369bf19ef8c5b1d3f9b78ebd125db763c/tips_tricks_38_Installing_conda_in_Google_Colab.ipynb), [repo](https://github.com/bnsreenu/python_for_microscopists/blob/master/tips_tricks_38_Installing_conda_in_Google_Colab.ipynb) Jul 8, 2022   \n",
        "* github issue [\"I can't activate my environment in the collab #10\"](https://github.com/dataprofessor/code/issues/10) - no solutions yet  \n",
        "* Tensor Comprehensions [\"Installation in the Google Colaboratory environment\"](https://facebookresearch.github.io/TensorComprehensions/installation_colab_research.html)   \n"
      ],
      "id": "_my5ccPQqY_O"
    },
    {
      "cell_type": "markdown",
      "metadata": {
        "id": "_5MOlFSU0Ehj"
      },
      "source": [
        "# **Set up environment 1**  "
      ],
      "id": "_5MOlFSU0Ehj"
    },
    {
      "cell_type": "code",
      "execution_count": null,
      "metadata": {
        "colab": {
          "base_uri": "https://localhost:8080/"
        },
        "id": "eavVPExji4KX",
        "outputId": "b29cc862-5838-4b0e-b3b6-a5d4498acb54"
      },
      "outputs": [
        {
          "name": "stdout",
          "output_type": "stream",
          "text": [
            "/usr/local/bin/python\n",
            "Python 3.8.10\n"
          ]
        }
      ],
      "source": [
        "## now the colab default python version is\n",
        "## /usr/local/bin/python\n",
        "## Python 3.8.10\n",
        "!which python\n",
        "!python --version"
      ],
      "id": "eavVPExji4KX"
    },
    {
      "cell_type": "code",
      "execution_count": null,
      "metadata": {
        "colab": {
          "base_uri": "https://localhost:8080/"
        },
        "id": "2DqzjzJemMdX",
        "outputId": "cf5c6492-638f-4434-ac88-d9fa47cd3c1c"
      },
      "outputs": [
        {
          "name": "stdout",
          "output_type": "stream",
          "text": [
            "env: PYTHONPATH=\n"
          ]
        }
      ],
      "source": [
        "%env PYTHONPATH="
      ],
      "id": "2DqzjzJemMdX"
    },
    {
      "cell_type": "code",
      "execution_count": null,
      "metadata": {
        "colab": {
          "base_uri": "https://localhost:8080/"
        },
        "id": "BJN9WULLr3m7",
        "outputId": "efac8894-2127-4d33-c128-3a6d6a234ee6"
      },
      "outputs": [
        {
          "name": "stdout",
          "output_type": "stream",
          "text": [
            "--2023-03-08 06:03:37--  https://repo.anaconda.com/miniconda/Miniconda3-latest-Linux-x86_64.sh\n",
            "Resolving repo.anaconda.com (repo.anaconda.com)... 104.16.131.3, 104.16.130.3, 2606:4700::6810:8203, ...\n",
            "Connecting to repo.anaconda.com (repo.anaconda.com)|104.16.131.3|:443... connected.\n",
            "HTTP request sent, awaiting response... 200 OK\n",
            "Length: 74403966 (71M) [application/x-sh]\n",
            "Saving to: ‘Miniconda3-latest-Linux-x86_64.sh’\n",
            "\n",
            "Miniconda3-latest-L 100%[===================>]  70.96M   364MB/s    in 0.2s    \n",
            "\n",
            "2023-03-08 06:03:37 (364 MB/s) - ‘Miniconda3-latest-Linux-x86_64.sh’ saved [74403966/74403966]\n",
            "\n",
            "PREFIX=/usr/local\n",
            "Unpacking payload ...\n",
            "                                                                                         \n",
            "Installing base environment...\n",
            "\n",
            "\n",
            "Downloading and Extracting Packages\n",
            "\n",
            "\n",
            "Downloading and Extracting Packages\n",
            "\n",
            "Preparing transaction: - \b\b\\ \b\b| \b\b/ \b\bdone\n",
            "Executing transaction: \\ \b\b| \b\b/ \b\b- \b\b\\ \b\b| \b\b/ \b\b- \b\b\\ \b\b| \b\b/ \b\b- \b\b\\ \b\b| \b\b/ \b\b- \b\b\\ \b\b| \b\b/ \b\b- \b\b\\ \b\b| \b\b/ \b\b- \b\b\\ \b\b| \b\b/ \b\bdone\n",
            "installation finished.\n"
          ]
        }
      ],
      "source": [
        "## install the latest version of miniconda\n",
        "!wget -nc https://repo.anaconda.com/miniconda/Miniconda3-latest-Linux-x86_64.sh\n",
        "!chmod +x Miniconda3-latest-Linux-x86_64.sh\n",
        "!./Miniconda3-latest-Linux-x86_64.sh -b -f -p /usr/local"
      ],
      "id": "BJN9WULLr3m7"
    },
    {
      "cell_type": "code",
      "execution_count": null,
      "metadata": {
        "colab": {
          "base_uri": "https://localhost:8080/"
        },
        "id": "6V6BqWgtsmE8",
        "outputId": "fc4d7b68-b17e-459b-d265-95b7663a608a"
      },
      "outputs": [
        {
          "name": "stdout",
          "output_type": "stream",
          "text": [
            "/usr/local/bin/conda\n",
            "conda 23.1.0\n",
            "Python 3.10.9\n"
          ]
        }
      ],
      "source": [
        "## should be /usr/local/bin/conda\n",
        "## conda 23.1.0\n",
        "## Python 3.10.9\n",
        "!which conda\n",
        "!conda --version \n",
        "!python --version"
      ],
      "id": "6V6BqWgtsmE8"
    },
    {
      "cell_type": "code",
      "execution_count": null,
      "metadata": {
        "colab": {
          "base_uri": "https://localhost:8080/"
        },
        "id": "rLkzKZszqGAA",
        "outputId": "c8f03b5b-16e3-4a73-8de1-1e6600e7f622"
      },
      "outputs": [
        {
          "name": "stdout",
          "output_type": "stream",
          "text": [
            "Collecting package metadata (current_repodata.json): - \b\b\\ \b\b| \b\b/ \b\b- \b\b\\ \b\b| \b\b/ \b\b- \b\b\\ \b\b| \b\b/ \b\b- \b\b\\ \b\b| \b\b/ \b\b- \b\b\\ \b\b| \b\b/ \b\b- \b\b\\ \b\b| \b\b/ \b\b- \b\b\\ \b\b| \b\b/ \b\b- \b\b\\ \b\b| \b\b/ \b\b- \b\b\\ \b\b| \b\b/ \b\b- \b\b\\ \b\b| \b\b/ \b\b- \b\b\\ \b\bdone\n",
            "Solving environment: / \b\b- \b\b\\ \b\b| \b\b/ \b\bdone\n",
            "\n",
            "## Package Plan ##\n",
            "\n",
            "  environment location: /usr/local\n",
            "\n",
            "  added / updated specs:\n",
            "    - conda\n",
            "    - python=3.10\n",
            "\n",
            "\n",
            "The following packages will be downloaded:\n",
            "\n",
            "    package                    |            build\n",
            "    ---------------------------|-----------------\n",
            "    openssl-1.1.1t             |       h7f8727e_0         3.7 MB\n",
            "    python-3.10.9              |       h7a1cb2a_1        26.8 MB\n",
            "    ------------------------------------------------------------\n",
            "                                           Total:        30.5 MB\n",
            "\n",
            "The following packages will be UPDATED:\n",
            "\n",
            "  openssl                                 1.1.1s-h7f8727e_0 --> 1.1.1t-h7f8727e_0 \n",
            "  python                                  3.10.9-h7a1cb2a_0 --> 3.10.9-h7a1cb2a_1 \n",
            "\n",
            "\n",
            "\n",
            "Downloading and Extracting Packages\n",
            "python-3.10.9        | 26.8 MB   | :   0% 0/1 [00:00<?, ?it/s]\n",
            "openssl-1.1.1t       | 3.7 MB    | :   0% 0/1 [00:00<?, ?it/s]\u001b[A\n",
            "python-3.10.9        | 26.8 MB   | :  49% 0.494367779945216/1 [00:00<00:00,  1.66it/s] \n",
            "                                                                        \n",
            "                                                                        \u001b[A\n",
            "Preparing transaction: \\ \b\b| \b\bdone\n",
            "Verifying transaction: - \b\b\\ \b\b| \b\b/ \b\b- \b\b\\ \b\b| \b\b/ \b\b- \b\b\\ \b\b| \b\b/ \b\bdone\n",
            "Executing transaction: \\ \b\b| \b\b/ \b\b- \b\bdone\n",
            "Collecting package metadata (current_repodata.json): - \b\b\\ \b\b| \b\b/ \b\b- \b\b\\ \b\b| \b\b/ \b\b- \b\b\\ \b\b| \b\b/ \b\b- \b\b\\ \b\b| \b\b/ \b\b- \b\b\\ \b\bdone\n",
            "Solving environment: / \b\b- \b\b\\ \b\b| \b\b/ \b\b- \b\bdone\n",
            "\n",
            "## Package Plan ##\n",
            "\n",
            "  environment location: /usr/local\n",
            "\n",
            "\n",
            "The following packages will be downloaded:\n",
            "\n",
            "    package                    |            build\n",
            "    ---------------------------|-----------------\n",
            "    cryptography-39.0.1        |  py310h9ce1e76_0         1.4 MB\n",
            "    pip-23.0.1                 |  py310h06a4308_0         2.6 MB\n",
            "    pyopenssl-23.0.0           |  py310h06a4308_0          97 KB\n",
            "    wheel-0.38.4               |  py310h06a4308_0          64 KB\n",
            "    zstandard-0.19.0           |  py310h5eee18b_0         474 KB\n",
            "    ------------------------------------------------------------\n",
            "                                           Total:         4.6 MB\n",
            "\n",
            "The following packages will be UPDATED:\n",
            "\n",
            "  cryptography                       38.0.4-py310h9ce1e76_0 --> 39.0.1-py310h9ce1e76_0 \n",
            "  pip                                22.3.1-py310h06a4308_0 --> 23.0.1-py310h06a4308_0 \n",
            "  pyopenssl          pkgs/main/noarch::pyopenssl-22.0.0-py~ --> pkgs/main/linux-64::pyopenssl-23.0.0-py310h06a4308_0 \n",
            "  wheel              pkgs/main/noarch::wheel-0.37.1-pyhd3e~ --> pkgs/main/linux-64::wheel-0.38.4-py310h06a4308_0 \n",
            "  zstandard                          0.18.0-py310h5eee18b_0 --> 0.19.0-py310h5eee18b_0 \n",
            "\n",
            "\n",
            "\n",
            "Downloading and Extracting Packages\n",
            "pyopenssl-23.0.0     | 97 KB     | :   0% 0/1 [00:00<?, ?it/s]\n",
            "cryptography-39.0.1  | 1.4 MB    | :   0% 0/1 [00:00<?, ?it/s]\u001b[A\n",
            "\n",
            "zstandard-0.19.0     | 474 KB    | :   0% 0/1 [00:00<?, ?it/s]\u001b[A\u001b[A\n",
            "\n",
            "\n",
            "wheel-0.38.4         | 64 KB     | :   0% 0/1 [00:00<?, ?it/s]\u001b[A\u001b[A\u001b[A\n",
            "\n",
            "\n",
            "\n",
            "pip-23.0.1           | 2.6 MB    | :   0% 0/1 [00:00<?, ?it/s]\u001b[A\u001b[A\u001b[A\u001b[A\n",
            "\n",
            "\n",
            "\n",
            "pip-23.0.1           | 2.6 MB    | :   1% 0.0060195259843728935/1 [00:00<00:32, 32.67s/it]\u001b[A\u001b[A\u001b[A\u001b[A\n",
            "\n",
            "\n",
            "wheel-0.38.4         | 64 KB     | :  25% 0.24973325610462457/1 [00:00<00:01,  1.67s/it]\u001b[A\u001b[A\u001b[A\n",
            "\n",
            "zstandard-0.19.0     | 474 KB    | :   3% 0.033748877371938005/1 [00:00<00:12, 12.45s/it]\u001b[A\u001b[A\n",
            "pyopenssl-23.0.0     | 97 KB     | : 100% 1.0/1 [00:00<00:00,  2.60s/it]                \n",
            "\n",
            "\n",
            "wheel-0.38.4         | 64 KB     | : 100% 1.0/1 [00:00<00:00,  1.96it/s]                \u001b[A\u001b[A\u001b[A\n",
            "\n",
            "\n",
            "wheel-0.38.4         | 64 KB     | : 100% 1.0/1 [00:00<00:00,  1.96it/s]\u001b[A\u001b[A\u001b[A\n",
            "\n",
            "zstandard-0.19.0     | 474 KB    | : 100% 1.0/1 [00:00<00:00,  1.69it/s]                 \u001b[A\u001b[A\n",
            "\n",
            "zstandard-0.19.0     | 474 KB    | : 100% 1.0/1 [00:00<00:00,  1.69it/s]\u001b[A\u001b[A\n",
            "cryptography-39.0.1  | 1.4 MB    | : 100% 1.0/1 [00:01<00:00,  1.03it/s]                 \u001b[A\n",
            "cryptography-39.0.1  | 1.4 MB    | : 100% 1.0/1 [00:01<00:00,  1.03it/s]\u001b[A\n",
            "\n",
            "\n",
            "\n",
            "pip-23.0.1           | 2.6 MB    | : 100% 1.0/1 [00:01<00:00,  1.29s/it]                  \u001b[A\u001b[A\u001b[A\u001b[A\n",
            "\n",
            "\n",
            "\n",
            "                                                                        \n",
            "                                                                        \u001b[A\n",
            "\n",
            "                                                                        \u001b[A\u001b[A\n",
            "\n",
            "\n",
            "                                                                        \u001b[A\u001b[A\u001b[A\n",
            "\n",
            "\n",
            "\n",
            "                                                                        \u001b[A\u001b[A\u001b[A\u001b[A\n",
            "Preparing transaction: | \b\b/ \b\bdone\n",
            "Verifying transaction: \\ \b\b| \b\b/ \b\bdone\n",
            "Executing transaction: \\ \b\b| \b\b/ \b\b- \b\bdone\n"
          ]
        }
      ],
      "source": [
        "!conda install --channel defaults conda python=3.10 --yes\n",
        "!conda update --channel defaults --all --yes"
      ],
      "id": "rLkzKZszqGAA"
    },
    {
      "cell_type": "code",
      "execution_count": null,
      "metadata": {
        "colab": {
          "base_uri": "https://localhost:8080/"
        },
        "id": "-oYGdW9WnzUv",
        "outputId": "663cf25c-06ae-419e-a47b-15e5806c7d57"
      },
      "outputs": [
        {
          "data": {
            "text/plain": [
              "['/content',\n",
              " '/env/python',\n",
              " '/usr/lib/python38.zip',\n",
              " '/usr/lib/python3.8',\n",
              " '/usr/lib/python3.8/lib-dynload',\n",
              " '',\n",
              " '/usr/local/lib/python3.8/dist-packages',\n",
              " '/usr/lib/python3/dist-packages',\n",
              " '/usr/local/lib/python3.8/dist-packages/IPython/extensions',\n",
              " '/root/.ipython']"
            ]
          },
          "execution_count": 6,
          "metadata": {},
          "output_type": "execute_result"
        }
      ],
      "source": [
        "import sys\n",
        "sys.path"
      ],
      "id": "-oYGdW9WnzUv"
    },
    {
      "cell_type": "code",
      "execution_count": null,
      "metadata": {
        "colab": {
          "base_uri": "https://localhost:8080/"
        },
        "id": "ZuhvwJh2oIb2",
        "outputId": "e40e6823-c897-47e8-fbc2-56bf0730ca60"
      },
      "outputs": [
        {
          "data": {
            "text/plain": [
              "['/content',\n",
              " '/env/python',\n",
              " '/usr/lib/python38.zip',\n",
              " '/usr/lib/python3.8',\n",
              " '/usr/lib/python3.8/lib-dynload',\n",
              " '',\n",
              " '/usr/local/lib/python3.8/dist-packages',\n",
              " '/usr/lib/python3/dist-packages',\n",
              " '/usr/local/lib/python3.8/dist-packages/IPython/extensions',\n",
              " '/root/.ipython',\n",
              " '/usr/local/lib/python3.8/site-packages',\n",
              " '/usr/local/lib/python3.10/site-packages']"
            ]
          },
          "execution_count": 7,
          "metadata": {},
          "output_type": "execute_result"
        }
      ],
      "source": [
        "## check your /usr/local/lib/ folders to find out where conda is installed\n",
        "## in this case conda is installed in ../python3.10/site-packages\n",
        "import sys\n",
        "# _ = (sys.path.append(\"/usr/local/lib/python3.8/site-packages\"))\n",
        "sys.path.append(\"/usr/local/lib/python3.8/site-packages\")\n",
        "sys.path.append(\"/usr/local/lib/python3.10/site-packages\")\n",
        "sys.path"
      ],
      "id": "ZuhvwJh2oIb2"
    },
    {
      "cell_type": "markdown",
      "metadata": {
        "id": "ZLaMaRJy8NTX"
      },
      "source": [
        "check the [yaml](https://raw.githubusercontent.com/Nov05/wandb-edu/1e9793ddcefecd0247403e243ecf875620381d47/mlops-001/lesson2/conda-environment.yaml)  "
      ],
      "id": "ZLaMaRJy8NTX"
    },
    {
      "cell_type": "code",
      "execution_count": null,
      "metadata": {
        "colab": {
          "base_uri": "https://localhost:8080/"
        },
        "id": "x6rnWx-ktB75",
        "outputId": "b6f8edb8-196c-42e7-94c7-5840070105e2"
      },
      "outputs": [
        {
          "name": "stdout",
          "output_type": "stream",
          "text": [
            "--2023-03-08 06:04:10--  https://raw.githubusercontent.com/Nov05/wandb-edu/1e9793ddcefecd0247403e243ecf875620381d47/mlops-001/lesson2/conda-environment.yaml\n",
            "Resolving raw.githubusercontent.com (raw.githubusercontent.com)... 185.199.108.133, 185.199.109.133, 185.199.110.133, ...\n",
            "Connecting to raw.githubusercontent.com (raw.githubusercontent.com)|185.199.108.133|:443... connected.\n",
            "HTTP request sent, awaiting response... 200 OK\n",
            "Length: 6712 (6.6K) [text/plain]\n",
            "Saving to: ‘conda-environment.yaml’\n",
            "\n",
            "conda-environment.y 100%[===================>]   6.55K  --.-KB/s    in 0s      \n",
            "\n",
            "2023-03-08 06:04:10 (68.0 MB/s) - ‘conda-environment.yaml’ saved [6712/6712]\n",
            "\n"
          ]
        }
      ],
      "source": [
        "## get env config yaml file\n",
        "!wget --no-clobber https://raw.githubusercontent.com/Nov05/wandb-edu/1e9793ddcefecd0247403e243ecf875620381d47/mlops-001/lesson2/conda-environment.yaml"
      ],
      "id": "x6rnWx-ktB75"
    },
    {
      "cell_type": "code",
      "execution_count": null,
      "metadata": {
        "colab": {
          "background_save": true
        },
        "id": "6IaTFj99t223"
      },
      "outputs": [],
      "source": [
        "%%time\n",
        "## CPU times: user 6.12 s, sys: 799 ms, total: 6.92 s\n",
        "## Wall time: 14min 34s, set up a timer and come back later...\n",
        "## the env can only be activated within one cell, and you will have to put everything in a script and execute it\n",
        "## so there is no need to create an new environment. just install packages in the base env\n",
        "## CPU times: user 7.29 s, sys: 869 ms, total: 8.16 s\n",
        "# !conda env create -f conda-environment.yaml\n",
        "!conda env update -n base -f conda-environment.yaml"
      ],
      "id": "6IaTFj99t223"
    },
    {
      "cell_type": "code",
      "execution_count": null,
      "metadata": {
        "colab": {
          "background_save": true
        },
        "id": "wNUHcDfu5IPQ",
        "outputId": "0e0cc6a1-d475-4577-b32d-f82ef5a5f8e5"
      },
      "outputs": [
        {
          "name": "stdout",
          "output_type": "stream",
          "text": [
            "/usr/local/bin/conda\n",
            "conda 23.1.0\n",
            "/usr/local/bin/python\n",
            "Python 3.8.13\n"
          ]
        }
      ],
      "source": [
        "## the python version falls back to 3.8.13 here, cause in the yaml \"python=3.8.13=ha86cf86_0_cpython\"\n",
        "!which conda\n",
        "!conda --version \n",
        "!which python\n",
        "!python --version"
      ],
      "id": "wNUHcDfu5IPQ"
    },
    {
      "cell_type": "code",
      "execution_count": null,
      "metadata": {
        "colab": {
          "background_save": true
        },
        "id": "6u1MJ0tX9Z9n",
        "outputId": "185924d5-e1e1-4c00-af25-57fda21f54cf"
      },
      "outputs": [
        {
          "name": "stdout",
          "output_type": "stream",
          "text": [
            "# conda environments:\n",
            "#\n",
            "base                     /usr/local\n",
            "\n",
            "0.13.5\n"
          ]
        }
      ],
      "source": [
        "## the env can only be activated within one cell, so you will have to put everything in a script and execute it\n",
        "## then add '/usr/local/lib/python3.8/site-packages' to the sys.path\n",
        "# !conda activate course\n",
        "# !source activate course\n",
        "# !conda activate course && call <myscript>\n",
        "!conda env list\n",
        "## wandb 0.13.5 will raise rror \"Failed to detect the name of this notebook\"\n",
        "import wandb \n",
        "print(wandb.__version__)"
      ],
      "id": "6u1MJ0tX9Z9n"
    },
    {
      "cell_type": "code",
      "execution_count": null,
      "metadata": {
        "colab": {
          "background_save": true
        },
        "id": "y9gX--HCqkAN",
        "outputId": "610a1b48-b0f7-4734-bc90-8f43bd170885"
      },
      "outputs": [
        {
          "name": "stdout",
          "output_type": "stream",
          "text": [
            "Looking in indexes: https://pypi.org/simple, https://us-python.pkg.dev/colab-wheels/public/simple/\n",
            "Collecting wandb==0.13.11\n",
            "  Downloading wandb-0.13.11-py3-none-any.whl (2.0 MB)\n",
            "\u001b[2K     \u001b[90m━━━━━━━━━━━━━━━━━━━━━━━━━━━━━━━━━━━━━━━━\u001b[0m \u001b[32m2.0/2.0 MB\u001b[0m \u001b[31m34.1 MB/s\u001b[0m eta \u001b[36m0:00:00\u001b[0m\n",
            "\u001b[?25hCollecting GitPython!=3.1.29,>=1.0.0\n",
            "  Downloading GitPython-3.1.31-py3-none-any.whl (184 kB)\n",
            "\u001b[2K     \u001b[90m━━━━━━━━━━━━━━━━━━━━━━━━━━━━━━━━━━━━━━\u001b[0m \u001b[32m184.3/184.3 kB\u001b[0m \u001b[31m21.3 MB/s\u001b[0m eta \u001b[36m0:00:00\u001b[0m\n",
            "\u001b[?25hRequirement already satisfied: docker-pycreds>=0.4.0 in /usr/local/lib/python3.8/site-packages (from wandb==0.13.11) (0.4.0)\n",
            "Requirement already satisfied: requests<3,>=2.0.0 in /usr/local/lib/python3.8/site-packages (from wandb==0.13.11) (2.28.1)\n",
            "Requirement already satisfied: pathtools in /usr/local/lib/python3.8/site-packages (from wandb==0.13.11) (0.1.2)\n",
            "Requirement already satisfied: Click!=8.0.0,>=7.0 in /usr/local/lib/python3.8/site-packages (from wandb==0.13.11) (8.1.3)\n",
            "Collecting appdirs>=1.4.3\n",
            "  Downloading appdirs-1.4.4-py2.py3-none-any.whl (9.6 kB)\n",
            "Requirement already satisfied: sentry-sdk>=1.0.0 in /usr/local/lib/python3.8/site-packages (from wandb==0.13.11) (1.11.0)\n",
            "Requirement already satisfied: setproctitle in /usr/local/lib/python3.8/site-packages (from wandb==0.13.11) (1.3.2)\n",
            "Requirement already satisfied: setuptools in /usr/local/lib/python3.8/site-packages (from wandb==0.13.11) (65.5.1)\n",
            "Requirement already satisfied: typing-extensions in /usr/local/lib/python3.8/site-packages (from wandb==0.13.11) (4.4.0)\n",
            "Requirement already satisfied: PyYAML in /usr/local/lib/python3.8/site-packages (from wandb==0.13.11) (6.0)\n",
            "Requirement already satisfied: protobuf!=4.21.0,<5,>=3.12.0 in /usr/local/lib/python3.8/site-packages (from wandb==0.13.11) (4.21.9)\n",
            "Requirement already satisfied: psutil>=5.0.0 in /usr/local/lib/python3.8/site-packages (from wandb==0.13.11) (5.9.4)\n",
            "Requirement already satisfied: six>=1.4.0 in /usr/local/lib/python3.8/site-packages (from docker-pycreds>=0.4.0->wandb==0.13.11) (1.16.0)\n",
            "Requirement already satisfied: gitdb<5,>=4.0.1 in /usr/local/lib/python3.8/site-packages (from GitPython!=3.1.29,>=1.0.0->wandb==0.13.11) (4.0.9)\n",
            "Requirement already satisfied: certifi>=2017.4.17 in /usr/local/lib/python3.8/site-packages (from requests<3,>=2.0.0->wandb==0.13.11) (2022.9.24)\n",
            "Requirement already satisfied: charset-normalizer<3,>=2 in /usr/local/lib/python3.8/site-packages (from requests<3,>=2.0.0->wandb==0.13.11) (2.1.1)\n",
            "Requirement already satisfied: urllib3<1.27,>=1.21.1 in /usr/local/lib/python3.8/site-packages (from requests<3,>=2.0.0->wandb==0.13.11) (1.26.11)\n",
            "Requirement already satisfied: idna<4,>=2.5 in /usr/local/lib/python3.8/site-packages (from requests<3,>=2.0.0->wandb==0.13.11) (3.4)\n",
            "Requirement already satisfied: smmap<6,>=3.0.1 in /usr/local/lib/python3.8/site-packages (from gitdb<5,>=4.0.1->GitPython!=3.1.29,>=1.0.0->wandb==0.13.11) (5.0.0)\n",
            "Installing collected packages: appdirs, GitPython, wandb\n",
            "  Attempting uninstall: GitPython\n",
            "    Found existing installation: GitPython 3.1.29\n",
            "    Uninstalling GitPython-3.1.29:\n",
            "      Successfully uninstalled GitPython-3.1.29\n",
            "  Attempting uninstall: wandb\n",
            "    Found existing installation: wandb 0.13.5\n",
            "    Uninstalling wandb-0.13.5:\n",
            "      Successfully uninstalled wandb-0.13.5\n",
            "Successfully installed GitPython-3.1.31 appdirs-1.4.4 wandb-0.13.11\n",
            "\u001b[33mWARNING: Running pip as the 'root' user can result in broken permissions and conflicting behaviour with the system package manager. It is recommended to use a virtual environment instead: https://pip.pypa.io/warnings/venv\u001b[0m\u001b[33m\n",
            "\u001b[0m"
          ]
        }
      ],
      "source": [
        "## upgrade to 0.13.11 will fix the error\n",
        "## remember to restart the runtime and add sys.path\n",
        "# !conda update /usr/local/lib/python3.8/site-packages/wandb\n",
        "# !pip install wandb==0.13.11\n",
        "# !python -m pip install --upgrade wandb\n",
        "!pip install wandb==0.13.11"
      ],
      "id": "y9gX--HCqkAN"
    },
    {
      "cell_type": "code",
      "execution_count": null,
      "metadata": {
        "id": "PvEPB7qYdF4u"
      },
      "outputs": [],
      "source": [
        "## or just use the colab default env\n",
        "# !pip install wandb"
      ],
      "id": "PvEPB7qYdF4u"
    },
    {
      "cell_type": "markdown",
      "source": [
        "# **Set up environment 2**"
      ],
      "metadata": {
        "id": "Wp3gFf-X9tco"
      },
      "id": "Wp3gFf-X9tco"
    },
    {
      "cell_type": "code",
      "source": [
        "!pip install -q condacolab\n",
        "import condacolab\n",
        "condacolab.install()"
      ],
      "metadata": {
        "colab": {
          "base_uri": "https://localhost:8080/"
        },
        "id": "ZlO9QW2r9op6",
        "outputId": "20643034-9d4e-4978-ef1a-33ce09e4c962"
      },
      "id": "ZlO9QW2r9op6",
      "execution_count": null,
      "outputs": [
        {
          "output_type": "stream",
          "name": "stdout",
          "text": [
            "⏬ Downloading https://github.com/jaimergp/miniforge/releases/latest/download/Mambaforge-colab-Linux-x86_64.sh...\n",
            "📦 Installing...\n",
            "📌 Adjusting configuration...\n",
            "🩹 Patching environment...\n",
            "⏲ Done in 0:00:19\n",
            "🔁 Restarting kernel...\n"
          ]
        }
      ]
    },
    {
      "cell_type": "code",
      "source": [
        "!conda config --show channels\n",
        "!conda config --show default_channels"
      ],
      "metadata": {
        "colab": {
          "base_uri": "https://localhost:8080/"
        },
        "id": "XV9pbWx3BLTA",
        "outputId": "abbfd63a-4d06-46c5-8a47-6a8a101c634f"
      },
      "id": "XV9pbWx3BLTA",
      "execution_count": null,
      "outputs": [
        {
          "output_type": "stream",
          "name": "stdout",
          "text": [
            "channels:\n",
            "  - conda-forge\n",
            "default_channels:\n",
            "  - https://repo.anaconda.com/pkgs/main\n",
            "  - https://repo.anaconda.com/pkgs/r\n"
          ]
        }
      ]
    },
    {
      "cell_type": "code",
      "source": [
        "# !conda install --channel defaults conda python=3.10 --yes\n",
        "# !conda update --channel defaults --all --yes\n",
        "# !conda update -n base -c conda-forge conda"
      ],
      "metadata": {
        "id": "g9chEeOdA7qu"
      },
      "id": "g9chEeOdA7qu",
      "execution_count": null,
      "outputs": []
    },
    {
      "cell_type": "code",
      "source": [
        "!which conda\n",
        "!conda --version \n",
        "!which python\n",
        "!python --version"
      ],
      "metadata": {
        "colab": {
          "base_uri": "https://localhost:8080/"
        },
        "id": "fuwqOWrT99a3",
        "outputId": "984f5657-4792-4679-b02b-5843e0adf455"
      },
      "id": "fuwqOWrT99a3",
      "execution_count": null,
      "outputs": [
        {
          "output_type": "stream",
          "name": "stdout",
          "text": [
            "/usr/local/bin/conda\n",
            "conda 22.9.0\n",
            "/usr/local/bin/python\n",
            "Python 3.8.15\n"
          ]
        }
      ]
    },
    {
      "cell_type": "code",
      "source": [
        "## get env config yaml file\n",
        "!wget --no-clobber https://raw.githubusercontent.com/Nov05/wandb-edu/1e9793ddcefecd0247403e243ecf875620381d47/mlops-001/lesson2/conda-environment.yaml"
      ],
      "metadata": {
        "id": "11wAJ0hc-Odh"
      },
      "id": "11wAJ0hc-Odh",
      "execution_count": null,
      "outputs": []
    },
    {
      "cell_type": "code",
      "source": [
        "%%time\n",
        "## CPU times: user 6.46 s, sys: 804 ms, total: 7.26 s\n",
        "## Wall time: 15min 5s\n",
        "!conda env update -n base -f conda-environment.yaml"
      ],
      "metadata": {
        "id": "VyjOgyK7-Z0R"
      },
      "id": "VyjOgyK7-Z0R",
      "execution_count": null,
      "outputs": []
    },
    {
      "cell_type": "code",
      "source": [
        "!conda env list\n",
        "!which python\n",
        "!python --version\n",
        "print(sys.prefix)\n",
        "print(sys.executable)\n",
        "sys.path"
      ],
      "metadata": {
        "colab": {
          "base_uri": "https://localhost:8080/"
        },
        "id": "8Yj6ygs0_hBi",
        "outputId": "4d81fe58-d72c-405c-8e84-944cdc96391b"
      },
      "id": "8Yj6ygs0_hBi",
      "execution_count": null,
      "outputs": [
        {
          "output_type": "stream",
          "name": "stdout",
          "text": [
            "# conda environments:\n",
            "#\n",
            "base                     /usr/local\n",
            "\n",
            "/usr/local/bin/python\n",
            "Python 3.8.13\n",
            "/usr\n",
            "/usr/bin/python3.real\n"
          ]
        },
        {
          "output_type": "execute_result",
          "data": {
            "text/plain": [
              "['/usr/local/lib/python3.8/site-packages',\n",
              " '/content',\n",
              " '/env/python',\n",
              " '/usr/lib/python38.zip',\n",
              " '/usr/lib/python3.8',\n",
              " '/usr/lib/python3.8/lib-dynload',\n",
              " '',\n",
              " '/usr/local/lib/python3.8/dist-packages',\n",
              " '/usr/lib/python3/dist-packages',\n",
              " '/usr/local/lib/python3.8/dist-packages/IPython/extensions',\n",
              " '/root/.ipython']"
            ]
          },
          "metadata": {},
          "execution_count": 7
        }
      ]
    },
    {
      "cell_type": "code",
      "source": [
        "## check wandb version\n",
        "import wandb \n",
        "print(wandb.__version__) "
      ],
      "metadata": {
        "colab": {
          "base_uri": "https://localhost:8080/"
        },
        "id": "oKxQaBdH_7TE",
        "outputId": "4ea4f9ab-a118-409a-9bb6-e857bcee4ab0"
      },
      "id": "oKxQaBdH_7TE",
      "execution_count": null,
      "outputs": [
        {
          "output_type": "stream",
          "name": "stdout",
          "text": [
            "0.13.5\n"
          ]
        }
      ]
    },
    {
      "cell_type": "code",
      "source": [
        "!pip install wandb==0.13.11"
      ],
      "metadata": {
        "id": "a_hFS4eIERtl"
      },
      "id": "a_hFS4eIERtl",
      "execution_count": null,
      "outputs": []
    },
    {
      "cell_type": "markdown",
      "metadata": {
        "id": "W4ehrfLyqYFJ"
      },
      "source": [
        "<a href=\"https://colab.research.google.com/github/wandb/edu/blob/main/mlops-001/lesson2/04_refactor_baseline.ipynb\" target=\"_parent\"><img src=\"https://colab.research.google.com/assets/colab-badge.svg\" alt=\"Open In Colab\"/></a>\n",
        "<!--- @wandbcode{course-lesson2} -->"
      ],
      "id": "W4ehrfLyqYFJ"
    },
    {
      "cell_type": "markdown",
      "metadata": {
        "id": "1XLETCV0Gzg9"
      },
      "source": [
        "# Restart the runtime, then run the rest cells"
      ],
      "id": "1XLETCV0Gzg9"
    },
    {
      "cell_type": "markdown",
      "metadata": {
        "id": "Hd4Up9j2NzpP"
      },
      "source": [
        "check [params.py](https://github.com/Nov05/wandb-edu/blob/main/mlops-001/lesson2/params.py), [train.py](https://github.com/Nov05/wandb-edu/blob/main/mlops-001/lesson2/train.py), [utils.py](https://github.com/Nov05/wandb-edu/blob/main/mlops-001/lesson2/utils.py), [sweep.yaml](https://github.com/Nov05/wandb-edu/blob/1e9793ddcefecd0247403e243ecf875620381d47/mlops-001/lesson2/sweep.yaml)  \n"
      ],
      "id": "Hd4Up9j2NzpP"
    },
    {
      "cell_type": "code",
      "execution_count": null,
      "metadata": {
        "id": "upxBohWDq2gA"
      },
      "outputs": [],
      "source": [
        "## get local modules for this notebook\n",
        "!wget --no-check-certificate -O params.py -q https://raw.githubusercontent.com/Nov05/wandb-edu/main/mlops-001/lesson2/params.py\n",
        "!wget --no-check-certificate -O train.py -q https://raw.githubusercontent.com/Nov05/wandb-edu/main/mlops-001/lesson2/train.py\n",
        "!wget --no-check-certificate -O utils.py -q https://raw.githubusercontent.com/Nov05/wandb-edu/main/mlops-001/lesson2/utils.py  \n",
        "!wget --no-check-certificate -O sweep.yaml -q https://raw.githubusercontent.com/Nov05/wandb-edu/main/mlops-001/lesson2/sweep.yaml"
      ],
      "id": "upxBohWDq2gA"
    },
    {
      "cell_type": "code",
      "execution_count": null,
      "metadata": {
        "colab": {
          "base_uri": "https://localhost:8080/"
        },
        "id": "B6mHFSMjQN6J",
        "outputId": "4563be38-6113-49d9-be69-a9fb1b38518c"
      },
      "outputs": [
        {
          "output_type": "stream",
          "name": "stdout",
          "text": [
            "0.13.11\n"
          ]
        },
        {
          "output_type": "execute_result",
          "data": {
            "text/plain": [
              "['/usr/local/lib/python3.8/site-packages',\n",
              " '/content',\n",
              " '/env/python',\n",
              " '/usr/lib/python38.zip',\n",
              " '/usr/lib/python3.8',\n",
              " '/usr/lib/python3.8/lib-dynload',\n",
              " '',\n",
              " '/usr/local/lib/python3.8/dist-packages',\n",
              " '/usr/lib/python3/dist-packages',\n",
              " '/usr/local/lib/python3.8/dist-packages/IPython/extensions',\n",
              " '/root/.ipython',\n",
              " '/usr/local/lib/python3.8/site-packages']"
            ]
          },
          "metadata": {},
          "execution_count": 5
        }
      ],
      "source": [
        "## add sys.path again, check wandb version\n",
        "import sys\n",
        "sys.path.append(\"/usr/local/lib/python3.8/site-packages\")\n",
        "import wandb \n",
        "print(wandb.__version__) \n",
        "sys.path"
      ],
      "id": "B6mHFSMjQN6J"
    },
    {
      "cell_type": "code",
      "execution_count": null,
      "metadata": {
        "colab": {
          "base_uri": "https://localhost:8080/"
        },
        "id": "ZcNGuaNBtplU",
        "outputId": "5468df2a-39d5-4792-fc0c-578db0a45694"
      },
      "outputs": [
        {
          "output_type": "stream",
          "name": "stdout",
          "text": [
            "env: PYTHONPATH=/usr/local/bin/python3\n",
            "env: PYTHONUSERBASE=/usr/local\n",
            "/usr\n",
            "/usr/bin/python3.real\n"
          ]
        }
      ],
      "source": [
        "## change '/usr/bin/python3' to '/usr/local/bin/python3' or '/usr/local/bin/python3.8'?\n",
        "# !export PYTHONPATH=/usr/local/lib/python3\n",
        "# !export PYTHONUSERBASE=/usr/local\n",
        "%env PYTHONPATH=/usr/local/bin/python3\n",
        "%env PYTHONUSERBASE=/usr/local\n",
        "print(sys.prefix)\n",
        "print(sys.executable)"
      ],
      "id": "ZcNGuaNBtplU"
    },
    {
      "cell_type": "code",
      "execution_count": null,
      "metadata": {
        "colab": {
          "base_uri": "https://localhost:8080/",
          "height": 123
        },
        "id": "o6US2fizz_eO",
        "outputId": "72c3b7ed-0918-408b-c5ff-40192860e2c9"
      },
      "outputs": [
        {
          "output_type": "display_data",
          "data": {
            "text/plain": [
              "<IPython.core.display.Javascript object>"
            ],
            "application/javascript": [
              "\n",
              "        window._wandbApiKey = new Promise((resolve, reject) => {\n",
              "            function loadScript(url) {\n",
              "            return new Promise(function(resolve, reject) {\n",
              "                let newScript = document.createElement(\"script\");\n",
              "                newScript.onerror = reject;\n",
              "                newScript.onload = resolve;\n",
              "                document.body.appendChild(newScript);\n",
              "                newScript.src = url;\n",
              "            });\n",
              "            }\n",
              "            loadScript(\"https://cdn.jsdelivr.net/npm/postmate/build/postmate.min.js\").then(() => {\n",
              "            const iframe = document.createElement('iframe')\n",
              "            iframe.style.cssText = \"width:0;height:0;border:none\"\n",
              "            document.body.appendChild(iframe)\n",
              "            const handshake = new Postmate({\n",
              "                container: iframe,\n",
              "                url: 'https://wandb.ai/authorize'\n",
              "            });\n",
              "            const timeout = setTimeout(() => reject(\"Couldn't auto authenticate\"), 5000)\n",
              "            handshake.then(function(child) {\n",
              "                child.on('authorize', data => {\n",
              "                    clearTimeout(timeout)\n",
              "                    resolve(data)\n",
              "                });\n",
              "            });\n",
              "            })\n",
              "        });\n",
              "    "
            ]
          },
          "metadata": {}
        },
        {
          "output_type": "stream",
          "name": "stderr",
          "text": [
            "\u001b[34m\u001b[1mwandb\u001b[0m: Logging into wandb.ai. (Learn how to deploy a W&B server locally: https://wandb.me/wandb-server)\n",
            "\u001b[34m\u001b[1mwandb\u001b[0m: You can find your API key in your browser here: https://wandb.ai/authorize\n",
            "wandb: Paste an API key from your profile and hit enter, or press ctrl+c to quit:"
          ]
        },
        {
          "name": "stdout",
          "output_type": "stream",
          "text": [
            " ··········\n"
          ]
        },
        {
          "output_type": "stream",
          "name": "stderr",
          "text": [
            "\u001b[34m\u001b[1mwandb\u001b[0m: Appending key for api.wandb.ai to your netrc file: /root/.netrc\n"
          ]
        },
        {
          "output_type": "execute_result",
          "data": {
            "text/plain": [
              "True"
            ]
          },
          "metadata": {},
          "execution_count": 4
        }
      ],
      "source": [
        "## test wandb\n",
        "wandb.login()"
      ],
      "id": "o6US2fizz_eO"
    },
    {
      "cell_type": "markdown",
      "metadata": {
        "id": "6cec1a21"
      },
      "source": [
        "# Refactor of Baseline Model\n",
        "<!--- @wandbcode{course-lesson2} -->\n",
        "\n",
        "The same code as in the previous notebook, but refactored into a small functions. This will be useful for the hyperparameter tuning."
      ],
      "id": "6cec1a21"
    },
    {
      "cell_type": "code",
      "execution_count": null,
      "metadata": {
        "id": "29116dec"
      },
      "outputs": [],
      "source": [
        "import wandb\n",
        "import pandas as pd\n",
        "import torchvision.models as tvmodels\n",
        "from fastai.vision.all import *\n",
        "from fastai.callback.wandb import WandbCallback\n",
        "\n",
        "import params\n",
        "from utils import get_predictions, create_iou_table, MIOU, BackgroundIOU, \\\n",
        "                  RoadIOU, TrafficLightIOU, TrafficSignIOU, PersonIOU, VehicleIOU, BicycleIOU"
      ],
      "id": "29116dec"
    },
    {
      "cell_type": "code",
      "execution_count": null,
      "metadata": {
        "id": "cff6b8ee"
      },
      "outputs": [],
      "source": [
        "train_config = SimpleNamespace(\n",
        "    framework=\"fastai\",\n",
        "    img_size=(180, 320),\n",
        "    batch_size=8,\n",
        "    augment=True, ## use data augmentation\n",
        "    epochs=10, \n",
        "    lr=2e-3,\n",
        "    arch=\"resnet18\",\n",
        "    pretrained=True,  ## whether to use pretrained encoder\n",
        "    seed=42,\n",
        "    log_preds=True,\n",
        ")"
      ],
      "id": "cff6b8ee"
    },
    {
      "cell_type": "code",
      "execution_count": null,
      "metadata": {
        "id": "954c2bb4-4d69-4dc4-9653-26cbc13ba509"
      },
      "outputs": [],
      "source": [
        "def download_data():\n",
        "    processed_data_at = wandb.use_artifact(f'{params.PROCESSED_DATA_AT}:latest')\n",
        "    processed_dataset_dir = Path(processed_data_at.download())\n",
        "    return processed_dataset_dir"
      ],
      "id": "954c2bb4-4d69-4dc4-9653-26cbc13ba509"
    },
    {
      "cell_type": "code",
      "execution_count": null,
      "metadata": {
        "id": "65ae3d60"
      },
      "outputs": [],
      "source": [
        "def label_func(fname):\n",
        "    return (fname.parent.parent/\"labels\")/f\"{fname.stem}_mask.png\""
      ],
      "id": "65ae3d60"
    },
    {
      "cell_type": "code",
      "execution_count": null,
      "metadata": {
        "id": "0010b696-eb6a-402e-9d3e-98c20a7deb62"
      },
      "outputs": [],
      "source": [
        " def get_df(processed_dataset_dir, is_test=False):\n",
        "    df = pd.read_csv(processed_dataset_dir / 'data_split.csv')\n",
        "    \n",
        "    if not is_test:\n",
        "        df = df[df.Stage != 'test'].reset_index(drop=True)\n",
        "        df['is_valid'] = df.Stage == 'valid'\n",
        "    else:\n",
        "        df = df[df.Stage == 'test'].reset_index(drop=True)\n",
        "        \n",
        "    # assign paths\n",
        "    df[\"image_fname\"] = [processed_dataset_dir/f'images/{f}' for f in df.File_Name.values]\n",
        "    df[\"label_fname\"] = [label_func(f) for f in df.image_fname.values]\n",
        "    return df"
      ],
      "id": "0010b696-eb6a-402e-9d3e-98c20a7deb62"
    },
    {
      "cell_type": "code",
      "execution_count": null,
      "metadata": {
        "id": "4268334e"
      },
      "outputs": [],
      "source": [
        "def get_data(df, bs=4, img_size=(180, 320), augment=True):\n",
        "    block = DataBlock(blocks=(ImageBlock, MaskBlock(codes=params.BDD_CLASSES)),\n",
        "                  get_x=ColReader(\"image_fname\"),\n",
        "                  get_y=ColReader(\"label_fname\"),\n",
        "                  splitter=ColSplitter(),\n",
        "                  item_tfms=Resize(img_size),\n",
        "                  batch_tfms=aug_transforms() if augment else None,\n",
        "                 )\n",
        "    return block.dataloaders(df, bs=bs)"
      ],
      "id": "4268334e"
    },
    {
      "cell_type": "code",
      "execution_count": null,
      "metadata": {
        "id": "387dc2d8"
      },
      "outputs": [],
      "source": [
        "def log_predictions(learn):\n",
        "    \"Log a Table with model predictions\"\n",
        "    samples, outputs, predictions = get_predictions(learn)\n",
        "    table = create_iou_table(samples, outputs, predictions, params.BDD_CLASSES)\n",
        "    wandb.log({\"pred_table\":table})"
      ],
      "id": "387dc2d8"
    },
    {
      "cell_type": "code",
      "execution_count": null,
      "metadata": {
        "id": "d6ec120e"
      },
      "outputs": [],
      "source": [
        "def log_final_metrics(learn):\n",
        "    scores = learn.validate()\n",
        "    metric_names = ['final_loss'] + [f'final_{x.name}' for x in learn.metrics]\n",
        "    final_results = {metric_names[i] : scores[i] for i in range(len(scores))}\n",
        "    for k,v in final_results.items(): \n",
        "        wandb.summary[k] = v"
      ],
      "id": "d6ec120e"
    },
    {
      "cell_type": "code",
      "execution_count": null,
      "metadata": {
        "id": "f4dd39ae-3b74-4c72-bb83-02e0ad68a96b"
      },
      "outputs": [],
      "source": [
        "def train(config):\n",
        "    set_seed(config.seed, reproducible=True)\n",
        "    run = wandb.init(project=params.WANDB_PROJECT, entity=params.ENTITY, job_type=\"training\", config=config)\n",
        "\n",
        "    config = wandb.config\n",
        "    \n",
        "    processed_dataset_dir = download_data()\n",
        "    df = get_df(processed_dataset_dir)\n",
        "    \n",
        "    dls = get_data(df, bs=config.batch_size, img_size=config.img_size, augment=config.augment)\n",
        "\n",
        "    metrics = [MIOU(), BackgroundIOU(), RoadIOU(), TrafficLightIOU(), \\\n",
        "               TrafficSignIOU(), PersonIOU(), VehicleIOU(), BicycleIOU()]\n",
        "\n",
        "    learn = unet_learner(dls, arch=getattr(tvmodels, config.arch), pretrained=config.pretrained, metrics=metrics)\n",
        "\n",
        "    callbacks = [\n",
        "        SaveModelCallback(monitor='miou'),\n",
        "        WandbCallback(log_preds=False, log_model=True)\n",
        "    ]\n",
        "\n",
        "    learn.fit_one_cycle(config.epochs, config.lr, cbs=callbacks)\n",
        "    \n",
        "    if config.log_preds:\n",
        "        log_predictions(learn)\n",
        "        \n",
        "    log_final_metrics(learn)\n",
        "\n",
        "    wandb.finish()"
      ],
      "id": "f4dd39ae-3b74-4c72-bb83-02e0ad68a96b"
    },
    {
      "cell_type": "markdown",
      "metadata": {
        "id": "77a8eaf3-a416-442d-b5c3-6e8a2bcf7b55"
      },
      "source": [
        "## Run the training"
      ],
      "id": "77a8eaf3-a416-442d-b5c3-6e8a2bcf7b55"
    },
    {
      "cell_type": "code",
      "execution_count": null,
      "metadata": {
        "colab": {
          "base_uri": "https://localhost:8080/",
          "height": 690
        },
        "id": "24a789d6-ca7b-4709-9370-d36ae60d2c89",
        "outputId": "f54dd9e3-5b5d-4ddc-aca8-3ea8bed002c9"
      },
      "outputs": [
        {
          "output_type": "stream",
          "name": "stderr",
          "text": [
            "\u001b[34m\u001b[1mwandb\u001b[0m: Currently logged in as: \u001b[33mnov05\u001b[0m (\u001b[33mnovemberfifth\u001b[0m). Use \u001b[1m`wandb login --relogin`\u001b[0m to force relogin\n"
          ]
        },
        {
          "output_type": "stream",
          "name": "stdout",
          "text": [
            "Problem at: <ipython-input-14-0fcfc7426e19> 3 train\n"
          ]
        },
        {
          "output_type": "stream",
          "name": "stderr",
          "text": [
            "Traceback (most recent call last):\n",
            "  File \"/usr/local/lib/python3.8/site-packages/wandb/sdk/wandb_init.py\", line 1144, in init\n",
            "    run = wi.init()\n",
            "  File \"/usr/local/lib/python3.8/site-packages/wandb/sdk/wandb_init.py\", line 801, in init\n",
            "    run_start_result = run_start_handle.wait(timeout=30)\n",
            "  File \"/usr/local/lib/python3.8/site-packages/wandb/sdk/lib/mailbox.py\", line 281, in wait\n",
            "    raise MailboxError(\"transport failed\")\n",
            "wandb.sdk.lib.mailbox.MailboxError: transport failed\n",
            "\u001b[34m\u001b[1mwandb\u001b[0m: \u001b[32m\u001b[41mERROR\u001b[0m Abnormal program exit\n"
          ]
        },
        {
          "output_type": "error",
          "ename": "Exception",
          "evalue": "ignored",
          "traceback": [
            "\u001b[0;31m---------------------------------------------------------------------------\u001b[0m",
            "\u001b[0;31mMailboxError\u001b[0m                              Traceback (most recent call last)",
            "\u001b[0;32m/usr/local/lib/python3.8/site-packages/wandb/sdk/wandb_init.py\u001b[0m in \u001b[0;36minit\u001b[0;34m(job_type, dir, config, project, entity, reinit, tags, group, name, notes, magic, config_exclude_keys, config_include_keys, anonymous, mode, allow_val_change, resume, force, tensorboard, sync_tensorboard, monitor_gym, save_code, id, settings)\u001b[0m\n\u001b[1;32m   1143\u001b[0m         \u001b[0;32mtry\u001b[0m\u001b[0;34m:\u001b[0m\u001b[0;34m\u001b[0m\u001b[0;34m\u001b[0m\u001b[0m\n\u001b[0;32m-> 1144\u001b[0;31m             \u001b[0mrun\u001b[0m \u001b[0;34m=\u001b[0m \u001b[0mwi\u001b[0m\u001b[0;34m.\u001b[0m\u001b[0minit\u001b[0m\u001b[0;34m(\u001b[0m\u001b[0;34m)\u001b[0m\u001b[0;34m\u001b[0m\u001b[0;34m\u001b[0m\u001b[0m\n\u001b[0m\u001b[1;32m   1145\u001b[0m             \u001b[0mexcept_exit\u001b[0m \u001b[0;34m=\u001b[0m \u001b[0mwi\u001b[0m\u001b[0;34m.\u001b[0m\u001b[0msettings\u001b[0m\u001b[0;34m.\u001b[0m\u001b[0m_except_exit\u001b[0m\u001b[0;34m\u001b[0m\u001b[0;34m\u001b[0m\u001b[0m\n",
            "\u001b[0;32m/usr/local/lib/python3.8/site-packages/wandb/sdk/wandb_init.py\u001b[0m in \u001b[0;36minit\u001b[0;34m(self)\u001b[0m\n\u001b[1;32m    800\u001b[0m         \u001b[0;31m# TODO: add progress to let user know we are doing something\u001b[0m\u001b[0;34m\u001b[0m\u001b[0;34m\u001b[0m\u001b[0;34m\u001b[0m\u001b[0m\n\u001b[0;32m--> 801\u001b[0;31m         \u001b[0mrun_start_result\u001b[0m \u001b[0;34m=\u001b[0m \u001b[0mrun_start_handle\u001b[0m\u001b[0;34m.\u001b[0m\u001b[0mwait\u001b[0m\u001b[0;34m(\u001b[0m\u001b[0mtimeout\u001b[0m\u001b[0;34m=\u001b[0m\u001b[0;36m30\u001b[0m\u001b[0;34m)\u001b[0m\u001b[0;34m\u001b[0m\u001b[0;34m\u001b[0m\u001b[0m\n\u001b[0m\u001b[1;32m    802\u001b[0m         \u001b[0;32mif\u001b[0m \u001b[0mrun_start_result\u001b[0m \u001b[0;32mis\u001b[0m \u001b[0;32mNone\u001b[0m\u001b[0;34m:\u001b[0m\u001b[0;34m\u001b[0m\u001b[0;34m\u001b[0m\u001b[0m\n",
            "\u001b[0;32m/usr/local/lib/python3.8/site-packages/wandb/sdk/lib/mailbox.py\u001b[0m in \u001b[0;36mwait\u001b[0;34m(self, timeout, on_probe, on_progress, release, cancel)\u001b[0m\n\u001b[1;32m    280\u001b[0m                 \u001b[0;32mif\u001b[0m \u001b[0mself\u001b[0m\u001b[0;34m.\u001b[0m\u001b[0m_interface\u001b[0m\u001b[0;34m.\u001b[0m\u001b[0m_transport_keepalive_failed\u001b[0m\u001b[0;34m(\u001b[0m\u001b[0;34m)\u001b[0m\u001b[0;34m:\u001b[0m\u001b[0;34m\u001b[0m\u001b[0;34m\u001b[0m\u001b[0m\n\u001b[0;32m--> 281\u001b[0;31m                     \u001b[0;32mraise\u001b[0m \u001b[0mMailboxError\u001b[0m\u001b[0;34m(\u001b[0m\u001b[0;34m\"transport failed\"\u001b[0m\u001b[0;34m)\u001b[0m\u001b[0;34m\u001b[0m\u001b[0;34m\u001b[0m\u001b[0m\n\u001b[0m\u001b[1;32m    282\u001b[0m \u001b[0;34m\u001b[0m\u001b[0m\n",
            "\u001b[0;31mMailboxError\u001b[0m: transport failed",
            "\nThe above exception was the direct cause of the following exception:\n",
            "\u001b[0;31mException\u001b[0m                                 Traceback (most recent call last)",
            "\u001b[0;32m<ipython-input-15-99eba1f2be27>\u001b[0m in \u001b[0;36m<module>\u001b[0;34m\u001b[0m\n\u001b[0;32m----> 1\u001b[0;31m \u001b[0mtrain\u001b[0m\u001b[0;34m(\u001b[0m\u001b[0mtrain_config\u001b[0m\u001b[0;34m)\u001b[0m\u001b[0;34m\u001b[0m\u001b[0;34m\u001b[0m\u001b[0m\n\u001b[0m\u001b[1;32m      2\u001b[0m \u001b[0;31m## wandb: Currently logged in as: nov05 (novemberfifth). Use `wandb login --relogin` to force relogin\u001b[0m\u001b[0;34m\u001b[0m\u001b[0;34m\u001b[0m\u001b[0;34m\u001b[0m\u001b[0m\n",
            "\u001b[0;32m<ipython-input-14-0fcfc7426e19>\u001b[0m in \u001b[0;36mtrain\u001b[0;34m(config)\u001b[0m\n\u001b[1;32m      1\u001b[0m \u001b[0;32mdef\u001b[0m \u001b[0mtrain\u001b[0m\u001b[0;34m(\u001b[0m\u001b[0mconfig\u001b[0m\u001b[0;34m)\u001b[0m\u001b[0;34m:\u001b[0m\u001b[0;34m\u001b[0m\u001b[0;34m\u001b[0m\u001b[0m\n\u001b[1;32m      2\u001b[0m     \u001b[0mset_seed\u001b[0m\u001b[0;34m(\u001b[0m\u001b[0mconfig\u001b[0m\u001b[0;34m.\u001b[0m\u001b[0mseed\u001b[0m\u001b[0;34m,\u001b[0m \u001b[0mreproducible\u001b[0m\u001b[0;34m=\u001b[0m\u001b[0;32mTrue\u001b[0m\u001b[0;34m)\u001b[0m\u001b[0;34m\u001b[0m\u001b[0;34m\u001b[0m\u001b[0m\n\u001b[0;32m----> 3\u001b[0;31m     \u001b[0mrun\u001b[0m \u001b[0;34m=\u001b[0m \u001b[0mwandb\u001b[0m\u001b[0;34m.\u001b[0m\u001b[0minit\u001b[0m\u001b[0;34m(\u001b[0m\u001b[0mproject\u001b[0m\u001b[0;34m=\u001b[0m\u001b[0mparams\u001b[0m\u001b[0;34m.\u001b[0m\u001b[0mWANDB_PROJECT\u001b[0m\u001b[0;34m,\u001b[0m \u001b[0mentity\u001b[0m\u001b[0;34m=\u001b[0m\u001b[0mparams\u001b[0m\u001b[0;34m.\u001b[0m\u001b[0mENTITY\u001b[0m\u001b[0;34m,\u001b[0m \u001b[0mjob_type\u001b[0m\u001b[0;34m=\u001b[0m\u001b[0;34m\"training\"\u001b[0m\u001b[0;34m,\u001b[0m \u001b[0mconfig\u001b[0m\u001b[0;34m=\u001b[0m\u001b[0mconfig\u001b[0m\u001b[0;34m)\u001b[0m\u001b[0;34m\u001b[0m\u001b[0;34m\u001b[0m\u001b[0m\n\u001b[0m\u001b[1;32m      4\u001b[0m \u001b[0;34m\u001b[0m\u001b[0m\n\u001b[1;32m      5\u001b[0m     \u001b[0mconfig\u001b[0m \u001b[0;34m=\u001b[0m \u001b[0mwandb\u001b[0m\u001b[0;34m.\u001b[0m\u001b[0mconfig\u001b[0m\u001b[0;34m\u001b[0m\u001b[0;34m\u001b[0m\u001b[0m\n",
            "\u001b[0;32m/usr/local/lib/python3.8/site-packages/wandb/sdk/wandb_init.py\u001b[0m in \u001b[0;36minit\u001b[0;34m(job_type, dir, config, project, entity, reinit, tags, group, name, notes, magic, config_exclude_keys, config_include_keys, anonymous, mode, allow_val_change, resume, force, tensorboard, sync_tensorboard, monitor_gym, save_code, id, settings)\u001b[0m\n\u001b[1;32m   1179\u001b[0m             \u001b[0;32mif\u001b[0m \u001b[0mexcept_exit\u001b[0m\u001b[0;34m:\u001b[0m\u001b[0;34m\u001b[0m\u001b[0;34m\u001b[0m\u001b[0m\n\u001b[1;32m   1180\u001b[0m                 \u001b[0mos\u001b[0m\u001b[0;34m.\u001b[0m\u001b[0m_exit\u001b[0m\u001b[0;34m(\u001b[0m\u001b[0;36m1\u001b[0m\u001b[0;34m)\u001b[0m\u001b[0;34m\u001b[0m\u001b[0;34m\u001b[0m\u001b[0m\n\u001b[0;32m-> 1181\u001b[0;31m             \u001b[0;32mraise\u001b[0m \u001b[0mException\u001b[0m\u001b[0;34m(\u001b[0m\u001b[0;34m\"problem\"\u001b[0m\u001b[0;34m)\u001b[0m \u001b[0;32mfrom\u001b[0m \u001b[0merror_seen\u001b[0m\u001b[0;34m\u001b[0m\u001b[0;34m\u001b[0m\u001b[0m\n\u001b[0m\u001b[1;32m   1182\u001b[0m     \u001b[0;32mreturn\u001b[0m \u001b[0mrun\u001b[0m\u001b[0;34m\u001b[0m\u001b[0;34m\u001b[0m\u001b[0m\n",
            "\u001b[0;31mException\u001b[0m: problem"
          ]
        }
      ],
      "source": [
        "train(train_config)\n",
        "## wandb: Currently logged in as: nov05 (novemberfifth). Use `wandb login --relogin` to force relogin"
      ],
      "id": "24a789d6-ca7b-4709-9370-d36ae60d2c89"
    },
    {
      "cell_type": "markdown",
      "metadata": {
        "id": "JkSpsd_bOzKH"
      },
      "source": [
        "**Issue 1 (solved)**  \n",
        "* \"ERROR:wandb.jupyter:**Failed to detect the \n",
        "name of this notebook**, you can set it manually with the WANDB_NOTEBOOK_NAME environment variable to enable code saving\". \n",
        "* Here is the [github issue](https://github.com/wandb/wandb/issues/4962):  \n",
        " **Detecting Jupyter notebook name no longer works in Google Colab #4962** Closed  \n",
        " *ender-wieczorek opened this issue 3 weeks ago · 6 comments · Fixed by #4987*  \n",
        "* Solution: update wandb version\n",
        " \n",
        "**Issue 2 (solved)**   \n",
        "* \"ServiceStartProcessError: The wandb service process exited with 1. Ensure that `sys.executable` is a valid python interpreter. You can override it with the `_executable` setting or with the `WANDB__EXECUTABLE` environment variable.\"   \n",
        "* \n",
        "```\n",
        "%env PYTHONPATH=/usr/local/bin/python3\n",
        "%env PYTHONUSERBASE=/usr/local\n",
        "```  \n",
        "\n",
        "**Issue 3 (solved)**   \n",
        "* wandb: Currently logged in as: nov05. Use `wandb login --relogin` to force relogin  \n",
        " wandb: ERROR It appears that you do not have permission to access the requested resource. Please reach out to the project owner to grant you access. If you have the correct permissions, verify that there are no issues with your networking setup.(Error 404: Not Found)  \n",
        " Problem at: <ipython-input-14-0fcfc7426e19> 3 train  \n",
        "* modify `ENTITY` and `RAW_DATA_AT` values  \n",
        "\n",
        "**Issue 4**  \n",
        "* wandb: Currently logged in as: nov05 (novemberfifth). Use `wandb login --relogin` to force relogin  \n",
        "* wandb.sdk.lib.mailbox.MailboxError: transport failed   \n",
        " wandb: ERROR Abnormal program exit  \n",
        "* BrokenPipeError: [Errno 32] Broken pipe  \n",
        " wandb: ERROR Abnormal program exit  \n",
        "[similar issue](https://community.wandb.ai/t/traceback-error-brokenpipeerror-errno-32-broken-pipe/3951/4)  \n",
        "\n",
        "I noticed that in [root/wandb-metadata.json](https://wandb.ai/novemberfifth/mlops-course-001/runs/h15mjohc/files/wandb-metadata.json)\n",
        "```\n",
        "\"username\": \"root\",\n",
        "\"executable\": \"/usr/bin/python3\",\n",
        "```\n",
        "\n"
      ],
      "id": "JkSpsd_bOzKH"
    },
    {
      "cell_type": "code",
      "source": [],
      "metadata": {
        "id": "aTM0W3U05xJJ"
      },
      "id": "aTM0W3U05xJJ",
      "execution_count": null,
      "outputs": []
    }
  ],
  "metadata": {
    "accelerator": "GPU",
    "colab": {
      "provenance": [],
      "include_colab_link": true
    },
    "gpuClass": "standard",
    "kernelspec": {
      "display_name": "Python 3.10.6 64-bit",
      "language": "python",
      "name": "python3"
    }
  },
  "nbformat": 4,
  "nbformat_minor": 5
}